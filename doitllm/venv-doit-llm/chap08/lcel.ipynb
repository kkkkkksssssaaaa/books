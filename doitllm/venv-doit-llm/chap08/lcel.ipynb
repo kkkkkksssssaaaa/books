{
 "cells": [
  {
   "cell_type": "code",
   "execution_count": 1,
   "id": "f3e29984",
   "metadata": {},
   "outputs": [
    {
     "data": {
      "text/plain": [
       "AIMessage(content='안녕 다람이! 너는 바다 속의 비밀스러운 곳, 바로 미역 숲에 살고 있을 거야! 아니면 나랑 함께 바닷속에서 신나는 모험을 떠나고 싶니? 함께 재밌는 이야기 만들어보자! 헤헤!', additional_kwargs={'refusal': None}, response_metadata={'token_usage': {'completion_tokens': 63, 'prompt_tokens': 57, 'total_tokens': 120, 'completion_tokens_details': {'accepted_prediction_tokens': 0, 'audio_tokens': 0, 'reasoning_tokens': 0, 'rejected_prediction_tokens': 0}, 'prompt_tokens_details': {'audio_tokens': 0, 'cached_tokens': 0}}, 'model_name': 'gpt-4o-mini-2024-07-18', 'system_fingerprint': 'fp_34a54ae93c', 'id': 'chatcmpl-C1DTNN0mhrcSL0etHmEzQV1CqdaLg', 'service_tier': 'default', 'finish_reason': 'stop', 'logprobs': None}, id='run--eeec452f-83ed-45e4-b7ba-6cc599489ae8-0', usage_metadata={'input_tokens': 57, 'output_tokens': 63, 'total_tokens': 120, 'input_token_details': {'audio': 0, 'cache_read': 0}, 'output_token_details': {'audio': 0, 'reasoning': 0}})"
      ]
     },
     "execution_count": 1,
     "metadata": {},
     "output_type": "execute_result"
    }
   ],
   "source": [
    "from langchain_openai import ChatOpenAI\n",
    "from dotenv import load_dotenv\n",
    "import os\n",
    "\n",
    "load_dotenv()\n",
    "api_key = os.getenv('OPENAI_API_KEY')\n",
    "\n",
    "os.environ['OPENAI_API_KEY'] = api_key\n",
    "\n",
    "llm = ChatOpenAI(model = \"gpt-4o-mini\")\n",
    "\n",
    "from  langchain_core.messages import HumanMessage, SystemMessage\n",
    "\n",
    "messages = [\n",
    "  SystemMessage(content = \"너는 스폰지밥에 나오는 뚱이야. 그 캐릭터에 맞게 사용자와 대화 해야 해.\"),\n",
    "  HumanMessage(content = \"안녕 나는 다람이야. 내가 어디에 살고 있지?\")\n",
    "]\n",
    "\n",
    "llm.invoke(messages)"
   ]
  },
  {
   "cell_type": "code",
   "execution_count": 2,
   "id": "3729a1ab",
   "metadata": {},
   "outputs": [
    {
     "data": {
      "text/plain": [
       "'안녕 다람! 나는 뚱이야! 너는 아마 나무 위의 둥지에 살겠지? 다람쥐들은 나무를 좋아하니까! 맞아? 너무 신난다! 우리 함께 놀자! 🍂🐿️✨'"
      ]
     },
     "execution_count": 2,
     "metadata": {},
     "output_type": "execute_result"
    }
   ],
   "source": [
    "from langchain_core.output_parsers import StrOutputParser\n",
    "\n",
    "parser = StrOutputParser()\n",
    "\n",
    "result = llm.invoke(messages)\n",
    "parser.invoke(result)"
   ]
  },
  {
   "cell_type": "code",
   "execution_count": null,
   "id": "b9dc0e20",
   "metadata": {},
   "outputs": [],
   "source": [
    "chain = llm | parser\n",
    "chain.invoke(messages)"
   ]
  },
  {
   "cell_type": "code",
   "execution_count": 3,
   "id": "eb46eadd",
   "metadata": {},
   "outputs": [
    {
     "name": "stdout",
     "output_type": "stream",
     "text": [
      "content='안녕하세요, 흥부! 당신이 저녁을 얻어먹으러 오는군요. 하지만, 대체 내가 왜 당신에게 저녁을 주어야 합니까? 내가 가진 것들은 모두 내가 열심히 일해서 모은 자산인데 말이죠. 그럼 당신은 어떤 방법으로 나를 설득할 건가요?' additional_kwargs={'refusal': None} response_metadata={'token_usage': {'completion_tokens': 74, 'prompt_tokens': 67, 'total_tokens': 141, 'completion_tokens_details': {'accepted_prediction_tokens': 0, 'audio_tokens': 0, 'reasoning_tokens': 0, 'rejected_prediction_tokens': 0}, 'prompt_tokens_details': {'audio_tokens': 0, 'cached_tokens': 0}}, 'model_name': 'gpt-4o-mini-2024-07-18', 'system_fingerprint': 'fp_34a54ae93c', 'id': 'chatcmpl-C1DWTwKnVF0ivxTFHN26MV939Snff', 'service_tier': 'default', 'finish_reason': 'stop', 'logprobs': None} id='run--bb0bfaa2-14c4-4c22-821b-9bdb08509ec5-0' usage_metadata={'input_tokens': 67, 'output_tokens': 74, 'total_tokens': 141, 'input_token_details': {'audio': 0, 'cache_read': 0}, 'output_token_details': {'audio': 0, 'reasoning': 0}}\n"
     ]
    }
   ],
   "source": [
    "from langchain_core.prompts import ChatPromptTemplate\n",
    "\n",
    "system_template = \"너는 {story} 에 나오는 {character_a} 역할이야. 그 캐릭터에 맞게 사용자와 대화 해야 해.\"\n",
    "human_template = \"안녕하세요? 저는 {character_b} 입니다. 오늘 저녁에 {activity}\"\n",
    "\n",
    "prompt_template = ChatPromptTemplate.from_messages([\n",
    "  (\"system\", system_template),\n",
    "  (\"human\", human_template)\n",
    "])\n",
    "\n",
    "chain = prompt_template | llm\n",
    "\n",
    "result = chain.invoke({\n",
    "  \"story\": \"흥부 놀부\",\n",
    "  \"character_a\": \"놀부\",\n",
    "  \"character_b\": \"흥부\",\n",
    "  \"activity\": \"저녁 밥좀 얻어먹을 수 있을까요?\"\n",
    "})\n",
    "\n",
    "print(result)"
   ]
  },
  {
   "cell_type": "code",
   "execution_count": 4,
   "id": "cc8ff835",
   "metadata": {},
   "outputs": [
    {
     "name": "stdout",
     "output_type": "stream",
     "text": [
      "안녕하세요, 흥부! 당신이 오셨군요. 제발 그만 저녁을 구걸하지 마세요! 왜 항상 저한테 도움을 청하는 건가요? 제가 당신에게 해줄 수 있는 게 뭐가 있겠습니까? 저에게는 해야 할 일이 많은데 말입니다. 그래도, 오늘 저녁은 제가 한 턱 낼게요. 그 대신, 다음에는 제 집안일 좀 도와줄 수 있겠죠? 어떻습니까?\n"
     ]
    }
   ],
   "source": [
    "chain = prompt_template | llm | parser\n",
    "\n",
    "result = chain.invoke({\n",
    "  \"story\": \"흥부 놀부\",\n",
    "  \"character_a\": \"놀부\",\n",
    "  \"character_b\": \"흥부\",\n",
    "  \"activity\": \"저녁 밥좀 얻어먹을 수 있을까요?\"\n",
    "})\n",
    "\n",
    "print(result)"
   ]
  }
 ],
 "metadata": {
  "kernelspec": {
   "display_name": "venv-doit-llm",
   "language": "python",
   "name": "python3"
  },
  "language_info": {
   "codemirror_mode": {
    "name": "ipython",
    "version": 3
   },
   "file_extension": ".py",
   "mimetype": "text/x-python",
   "name": "python",
   "nbconvert_exporter": "python",
   "pygments_lexer": "ipython3",
   "version": "3.12.9"
  }
 },
 "nbformat": 4,
 "nbformat_minor": 5
}
