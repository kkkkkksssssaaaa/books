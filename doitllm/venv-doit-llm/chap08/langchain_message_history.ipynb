{
 "cells": [
  {
   "cell_type": "code",
   "execution_count": 3,
   "id": "acbcc84b",
   "metadata": {},
   "outputs": [],
   "source": [
    "from langchain_openai import ChatOpenAI\n",
    "from langchain_core.runnables.history import RunnableWithMessageHistory\n",
    "from langchain_core.messages import HumanMessage, BaseMessage\n",
    "from langchain_core.chat_history import BaseChatMessageHistory, InMemoryChatMessageHistory\n",
    "from dotenv import load_dotenv\n",
    "import os\n",
    "\n",
    "load_dotenv()\n",
    "api_key = os.getenv('OPENAI_API_KEY')\n",
    "\n",
    "os.environ['OPENAI_API_KEY'] = api_key\n",
    "\n",
    "llm = ChatOpenAI(model = \"gpt-4o-mini\")\n",
    "\n",
    "store = {}\n",
    "\n",
    "def get_session_history(session_id: str) ->   BaseChatMessageHistory:\n",
    "  if session_id not in store:\n",
    "    store[session_id] = InMemoryChatMessageHistory()\n",
    "  return store[session_id]\n",
    "\n",
    "with_message_history = RunnableWithMessageHistory(llm, get_session_history)"
   ]
  },
  {
   "cell_type": "code",
   "execution_count": null,
   "id": "b5fda525",
   "metadata": {},
   "outputs": [
    {
     "name": "stdout",
     "output_type": "stream",
     "text": [
      "안녕하세요, 왕해삼님! 반갑습니다. 한국에 대해 이야기하거나 궁금한 점이 있다면 언제든지 말씀해 주세요!\n"
     ]
    }
   ],
   "source": [
    "config = {\"configurable\": {\"session_id\": \"12345678910\"}}\n",
    "\n",
    "response = with_message_history.invoke(\n",
    "  [HumanMessage(\"안녕 안녕, 나는 왕해삼이야. 한국인이야.\")],\n",
    "  config = config\n",
    ")\n",
    "\n",
    "print(response.content)"
   ]
  },
  {
   "cell_type": "code",
   "execution_count": 6,
   "id": "1a138245",
   "metadata": {},
   "outputs": [
    {
     "name": "stdout",
     "output_type": "stream",
     "text": [
      "당신의 이름은 왕해삼입니다. 다른 질문이나 궁금한 점이 있으시면 언제든지 물어보세요!\n"
     ]
    }
   ],
   "source": [
    "response = with_message_history.invoke(\n",
    "  [HumanMessage(\"내 이름이 뭐더라?\")],\n",
    "  config = config\n",
    ")\n",
    "\n",
    "print(response.content)"
   ]
  },
  {
   "cell_type": "code",
   "execution_count": 7,
   "id": "b22f9465",
   "metadata": {},
   "outputs": [
    {
     "name": "stdout",
     "output_type": "stream",
     "text": [
      "죄송하지만, 당신의 이름을 알지 못합니다. 당신의 이름을 말씀해 주시면 그에 맞춰 대화할 수 있습니다!\n"
     ]
    }
   ],
   "source": [
    "new_config = {\"configurable\": {\"session_id\": \"123456789101\"}}\n",
    "\n",
    "response = with_message_history.invoke(\n",
    "  [HumanMessage(\"내 이름이 뭐더라?\")],\n",
    "  config = new_config\n",
    ")\n",
    "\n",
    "print(response.content)"
   ]
  },
  {
   "cell_type": "code",
   "execution_count": 8,
   "id": "489193f8",
   "metadata": {},
   "outputs": [
    {
     "name": "stdout",
     "output_type": "stream",
     "text": [
      "|죄|송|하지만|,| 당신|의| 이름|을| 알|지| 못|합니다|.| 제가| 도|와|드|릴| 수| 있는| 다른| 질문|이나| 요청|이| 있다|면| 말씀|해| 주세요|!||"
     ]
    }
   ],
   "source": [
    "config = {\"configurable\": {\"session_id\": \"12345678910\"}}\n",
    "\n",
    "for r in with_message_history.stream(\n",
    "  [HumanMessage(\"내 이름이 뭐더라?\")],\n",
    "  config = config\n",
    "):\n",
    "  print(r.content, end = '|')"
   ]
  }
 ],
 "metadata": {
  "kernelspec": {
   "display_name": "venv-doit-llm",
   "language": "python",
   "name": "python3"
  },
  "language_info": {
   "codemirror_mode": {
    "name": "ipython",
    "version": 3
   },
   "file_extension": ".py",
   "mimetype": "text/x-python",
   "name": "python",
   "nbconvert_exporter": "python",
   "pygments_lexer": "ipython3",
   "version": "3.12.9"
  }
 },
 "nbformat": 4,
 "nbformat_minor": 5
}
