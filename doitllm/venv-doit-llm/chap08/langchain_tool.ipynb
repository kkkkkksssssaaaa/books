{
 "cells": [
  {
   "cell_type": "code",
   "execution_count": 8,
   "id": "14809ce3",
   "metadata": {},
   "outputs": [
    {
     "data": {
      "text/plain": [
       "AIMessage(content='네, 저는 항상 여러분의 질문에 답할 준비가 되어 있습니다. 어떤 도움이 필요하신가요?', additional_kwargs={'refusal': None}, response_metadata={'token_usage': {'completion_tokens': 23, 'prompt_tokens': 12, 'total_tokens': 35, 'completion_tokens_details': {'accepted_prediction_tokens': 0, 'audio_tokens': 0, 'reasoning_tokens': 0, 'rejected_prediction_tokens': 0}, 'prompt_tokens_details': {'audio_tokens': 0, 'cached_tokens': 0}}, 'model_name': 'gpt-4o-mini-2024-07-18', 'system_fingerprint': 'fp_34a54ae93c', 'id': 'chatcmpl-C1DeDoqVVL0IalgKgeogk3UX1xjAj', 'service_tier': 'default', 'finish_reason': 'stop', 'logprobs': None}, id='run--2f6d0af1-3128-46a6-844b-3ee9209a01c6-0', usage_metadata={'input_tokens': 12, 'output_tokens': 23, 'total_tokens': 35, 'input_token_details': {'audio': 0, 'cache_read': 0}, 'output_token_details': {'audio': 0, 'reasoning': 0}})"
      ]
     },
     "execution_count": 8,
     "metadata": {},
     "output_type": "execute_result"
    }
   ],
   "source": [
    "from langchain_openai import ChatOpenAI\n",
    "from langchain_core.messages import HumanMessage\n",
    "from dotenv import load_dotenv\n",
    "import os\n",
    "\n",
    "load_dotenv()\n",
    "api_key = os.getenv('OPENAI_API_KEY')\n",
    "\n",
    "llm = ChatOpenAI(model = \"gpt-4o-mini\")\n",
    "\n",
    "llm.invoke([HumanMessage(\"한가하니?\")])"
   ]
  },
  {
   "cell_type": "code",
   "execution_count": 10,
   "id": "db3b5b57",
   "metadata": {},
   "outputs": [],
   "source": [
    "from re import L\n",
    "from langchain_core.tools import tool\n",
    "from datetime import datetime\n",
    "import pytz\n",
    "\n",
    "@tool\n",
    "def get_current_time(timezone: str, location: str) -> str:\n",
    "  \"\"\" 현재 시각을 반환하는 함수\n",
    "  \n",
    "  Args:\n",
    "    timezone(str): 타임존(e.g. Asia/Seoul) 실제 존재해야 함\n",
    "    location(str): 지역명. 타임존은 모든 지명에 대응되지 않으므로 이후 llm 답변 생성에 사용됨\n",
    "  \"\"\"\n",
    "  \n",
    "  tz = pytz.timezone(timezone)\n",
    "  now = datetime.now(tz)\n",
    "  location_and_local_time = f\"{timezone} {location}의 현재 시각: {now}\"\n",
    "  print(location_and_local_time)\n",
    "  \n",
    "  return location_and_local_time\n"
   ]
  },
  {
   "cell_type": "code",
   "execution_count": 11,
   "id": "979c7586",
   "metadata": {},
   "outputs": [],
   "source": [
    "tools = [get_current_time]\n",
    "tool_dict = {\n",
    "  \"get_current_time\": get_current_time\n",
    "}\n",
    "\n",
    "llm_with_tools = llm.bind_tools(tools)"
   ]
  },
  {
   "cell_type": "code",
   "execution_count": 12,
   "id": "4f4d267b",
   "metadata": {},
   "outputs": [
    {
     "name": "stdout",
     "output_type": "stream",
     "text": [
      "[SystemMessage(content='너는 사용자의 질문에 답변하기 위해 tools 를 사용할 수 있다.', additional_kwargs={}, response_metadata={}), HumanMessage(content='성남시의 현재 시각은 몇 시인가요?', additional_kwargs={}, response_metadata={}), AIMessage(content='', additional_kwargs={'tool_calls': [{'id': 'call_uBt7Z413wqkBfmXBuoVXhwOy', 'function': {'arguments': '{\"timezone\":\"Asia/Seoul\",\"location\":\"성남시\"}', 'name': 'get_current_time'}, 'type': 'function'}], 'refusal': None}, response_metadata={'token_usage': {'completion_tokens': 24, 'prompt_tokens': 131, 'total_tokens': 155, 'completion_tokens_details': {'accepted_prediction_tokens': 0, 'audio_tokens': 0, 'reasoning_tokens': 0, 'rejected_prediction_tokens': 0}, 'prompt_tokens_details': {'audio_tokens': 0, 'cached_tokens': 0}}, 'model_name': 'gpt-4o-mini-2024-07-18', 'system_fingerprint': 'fp_34a54ae93c', 'id': 'chatcmpl-C1DeLruHvO3C97CAKPDw2nUbiLUyj', 'service_tier': 'default', 'finish_reason': 'tool_calls', 'logprobs': None}, id='run--85377bba-38bc-4cf0-888b-d5ba7b002c82-0', tool_calls=[{'name': 'get_current_time', 'args': {'timezone': 'Asia/Seoul', 'location': '성남시'}, 'id': 'call_uBt7Z413wqkBfmXBuoVXhwOy', 'type': 'tool_call'}], usage_metadata={'input_tokens': 131, 'output_tokens': 24, 'total_tokens': 155, 'input_token_details': {'audio': 0, 'cache_read': 0}, 'output_token_details': {'audio': 0, 'reasoning': 0}})]\n"
     ]
    }
   ],
   "source": [
    "from langchain_core.messages import SystemMessage, HumanMessage\n",
    "\n",
    "messages = [\n",
    "  SystemMessage(\"너는 사용자의 질문에 답변하기 위해 tools 를 사용할 수 있다.\"),\n",
    "  HumanMessage(\"성남시의 현재 시각은 몇 시인가요?\")\n",
    "]\n",
    "\n",
    "response = llm_with_tools.invoke(messages)\n",
    "messages.append(response)\n",
    "\n",
    "print(messages)"
   ]
  },
  {
   "cell_type": "code",
   "execution_count": 14,
   "id": "ea1ec1ea",
   "metadata": {},
   "outputs": [
    {
     "name": "stdout",
     "output_type": "stream",
     "text": [
      "{'timezone': 'Asia/Seoul', 'location': '성남시'}\n",
      "Asia/Seoul 성남시의 현재 시각: 2025-08-06 00:15:17.223082+09:00\n"
     ]
    },
    {
     "data": {
      "text/plain": [
       "[SystemMessage(content='너는 사용자의 질문에 답변하기 위해 tools 를 사용할 수 있다.', additional_kwargs={}, response_metadata={}),\n",
       " HumanMessage(content='성남시의 현재 시각은 몇 시인가요?', additional_kwargs={}, response_metadata={}),\n",
       " AIMessage(content='', additional_kwargs={'tool_calls': [{'id': 'call_uBt7Z413wqkBfmXBuoVXhwOy', 'function': {'arguments': '{\"timezone\":\"Asia/Seoul\",\"location\":\"성남시\"}', 'name': 'get_current_time'}, 'type': 'function'}], 'refusal': None}, response_metadata={'token_usage': {'completion_tokens': 24, 'prompt_tokens': 131, 'total_tokens': 155, 'completion_tokens_details': {'accepted_prediction_tokens': 0, 'audio_tokens': 0, 'reasoning_tokens': 0, 'rejected_prediction_tokens': 0}, 'prompt_tokens_details': {'audio_tokens': 0, 'cached_tokens': 0}}, 'model_name': 'gpt-4o-mini-2024-07-18', 'system_fingerprint': 'fp_34a54ae93c', 'id': 'chatcmpl-C1DeLruHvO3C97CAKPDw2nUbiLUyj', 'service_tier': 'default', 'finish_reason': 'tool_calls', 'logprobs': None}, id='run--85377bba-38bc-4cf0-888b-d5ba7b002c82-0', tool_calls=[{'name': 'get_current_time', 'args': {'timezone': 'Asia/Seoul', 'location': '성남시'}, 'id': 'call_uBt7Z413wqkBfmXBuoVXhwOy', 'type': 'tool_call'}], usage_metadata={'input_tokens': 131, 'output_tokens': 24, 'total_tokens': 155, 'input_token_details': {'audio': 0, 'cache_read': 0}, 'output_token_details': {'audio': 0, 'reasoning': 0}}),\n",
       " ToolMessage(content='Asia/Seoul 성남시의 현재 시각: 2025-08-06 00:15:17.223082+09:00', name='get_current_time', tool_call_id='call_uBt7Z413wqkBfmXBuoVXhwOy')]"
      ]
     },
     "execution_count": 14,
     "metadata": {},
     "output_type": "execute_result"
    }
   ],
   "source": [
    "for tool_call in response.tool_calls:\n",
    "  selected_tool = tool_dict[tool_call[\"name\"]]\n",
    "  print(tool_call[\"args\"])\n",
    "  \n",
    "  tool_msg = selected_tool.invoke(tool_call)\n",
    "  messages.append(tool_msg)\n",
    "  \n",
    "messages"
   ]
  },
  {
   "cell_type": "code",
   "execution_count": 15,
   "id": "1177e714",
   "metadata": {},
   "outputs": [
    {
     "data": {
      "text/plain": [
       "AIMessage(content='성남시의 현재 시각은 2025년 8월 6일 00시 15분 17초입니다.', additional_kwargs={'refusal': None}, response_metadata={'token_usage': {'completion_tokens': 30, 'prompt_tokens': 196, 'total_tokens': 226, 'completion_tokens_details': {'accepted_prediction_tokens': 0, 'audio_tokens': 0, 'reasoning_tokens': 0, 'rejected_prediction_tokens': 0}, 'prompt_tokens_details': {'audio_tokens': 0, 'cached_tokens': 0}}, 'model_name': 'gpt-4o-mini-2024-07-18', 'system_fingerprint': 'fp_34a54ae93c', 'id': 'chatcmpl-C1Dg0kN1xKkmTlqHOlQuFVtHYlB2D', 'service_tier': 'default', 'finish_reason': 'stop', 'logprobs': None}, id='run--ff36074a-b4f2-41d8-9fc1-346ffdc01254-0', usage_metadata={'input_tokens': 196, 'output_tokens': 30, 'total_tokens': 226, 'input_token_details': {'audio': 0, 'cache_read': 0}, 'output_token_details': {'audio': 0, 'reasoning': 0}})"
      ]
     },
     "execution_count": 15,
     "metadata": {},
     "output_type": "execute_result"
    }
   ],
   "source": [
    "llm_with_tools.invoke(messages)"
   ]
  },
  {
   "cell_type": "code",
   "execution_count": null,
   "id": "febdcf03",
   "metadata": {},
   "outputs": [
    {
     "ename": "NameError",
     "evalue": "name 'StockHistoryInput' is not defined",
     "output_type": "error",
     "traceback": [
      "\u001b[31m---------------------------------------------------------------------------\u001b[39m",
      "\u001b[31mNameError\u001b[39m                                 Traceback (most recent call last)",
      "\u001b[36mCell\u001b[39m\u001b[36m \u001b[39m\u001b[32mIn[16]\u001b[39m\u001b[32m, line 4\u001b[39m\n\u001b[32m      1\u001b[39m \u001b[38;5;28;01mimport\u001b[39;00m\u001b[38;5;250m \u001b[39m\u001b[34;01myfinance\u001b[39;00m\u001b[38;5;250m \u001b[39m\u001b[38;5;28;01mas\u001b[39;00m\u001b[38;5;250m \u001b[39m\u001b[34;01myf\u001b[39;00m\n\u001b[32m      3\u001b[39m \u001b[38;5;129m@tool\u001b[39m\n\u001b[32m----> \u001b[39m\u001b[32m4\u001b[39m \u001b[38;5;28;01mdef\u001b[39;00m\u001b[38;5;250m \u001b[39m\u001b[34mget_yf_stock_history\u001b[39m(stock_history_input: \u001b[43mStockHistoryInput\u001b[49m) -> \u001b[38;5;28mstr\u001b[39m:\n\u001b[32m      5\u001b[39m \u001b[38;5;250m  \u001b[39m\u001b[33;03m\"\"\" 주식 시장 데이터를 반환하는 함수\u001b[39;00m\n\u001b[32m      6\u001b[39m \n\u001b[32m      7\u001b[39m \u001b[33;03m  Args:\u001b[39;00m\n\u001b[32m      8\u001b[39m \u001b[33;03m    stock_history_input(StockHistoryInput): 주식 시장 데이터 입력\u001b[39;00m\n\u001b[32m      9\u001b[39m \u001b[33;03m  \"\"\"\u001b[39;00m\n\u001b[32m     11\u001b[39m   stock = yf.Ticker(stock_history_input.ticker)\n",
      "\u001b[31mNameError\u001b[39m: name 'StockHistoryInput' is not defined"
     ]
    }
   ],
   "source": [
    "import yfinance as yf\n",
    "\n",
    "@tool\n",
    "def get_yf_stock_history(stock_history_input: StockHistoryInput) -> str:\n",
    "  \"\"\" 주식 시장 데이터를 반환하는 함수\n",
    "  \n",
    "  Args:\n",
    "    stock_history_input(StockHistoryInput): 주식 시장 데이터 입력\n",
    "  \"\"\"\n",
    "  \n",
    "  stock = yf.Ticker(stock_history_input.ticker)\n",
    "  history = stock.history(period = stock_history_input.period)\n",
    "  history_md = history.to_markdown()\n",
    "  \n",
    "  return history_md\n",
    "\n",
    "tools = [\n",
    "  get_current_time,\n",
    "  get_yf_stock_history\n",
    "]\n",
    "\n",
    "tool_dict = {\n",
    "  \"get_current_time\": get_current_time,\n",
    "  \"get_yf_stock_history\": get_yf_stock_history\n",
    "}\n",
    "\n",
    "llm_with_tools = llm.bind_tools(tools)\n",
    "\n",
    "messages = [\n",
    "  SystemMessage(\"너는 사용자의 질문에 답변하기 위해 tools 를 사용할 수 있다.\"),\n",
    "]"
   ]
  }
 ],
 "metadata": {
  "kernelspec": {
   "display_name": "venv-doit-llm",
   "language": "python",
   "name": "python3"
  },
  "language_info": {
   "codemirror_mode": {
    "name": "ipython",
    "version": 3
   },
   "file_extension": ".py",
   "mimetype": "text/x-python",
   "name": "python",
   "nbconvert_exporter": "python",
   "pygments_lexer": "ipython3",
   "version": "3.12.9"
  }
 },
 "nbformat": 4,
 "nbformat_minor": 5
}
