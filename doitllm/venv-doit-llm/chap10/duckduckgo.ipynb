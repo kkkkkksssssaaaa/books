{
 "cells": [
  {
   "cell_type": "code",
   "execution_count": 2,
   "id": "6af98b98",
   "metadata": {},
   "outputs": [
    {
     "name": "stdout",
     "output_type": "stream",
     "text": [
      "Requirement already satisfied: langchain_community in /Users/kkkkkksssssaaaa/IdeaProjects/books/.venv/lib/python3.12/site-packages (0.3.27)\n",
      "Requirement already satisfied: langchain-core<1.0.0,>=0.3.66 in /Users/kkkkkksssssaaaa/IdeaProjects/books/.venv/lib/python3.12/site-packages (from langchain_community) (0.3.74)\n",
      "Requirement already satisfied: langchain<1.0.0,>=0.3.26 in /Users/kkkkkksssssaaaa/IdeaProjects/books/.venv/lib/python3.12/site-packages (from langchain_community) (0.3.27)\n",
      "Requirement already satisfied: SQLAlchemy<3,>=1.4 in /Users/kkkkkksssssaaaa/IdeaProjects/books/.venv/lib/python3.12/site-packages (from langchain_community) (2.0.43)\n",
      "Requirement already satisfied: requests<3,>=2 in /Users/kkkkkksssssaaaa/IdeaProjects/books/.venv/lib/python3.12/site-packages (from langchain_community) (2.32.5)\n",
      "Requirement already satisfied: PyYAML>=5.3 in /Users/kkkkkksssssaaaa/IdeaProjects/books/.venv/lib/python3.12/site-packages (from langchain_community) (6.0.2)\n",
      "Requirement already satisfied: aiohttp<4.0.0,>=3.8.3 in /Users/kkkkkksssssaaaa/IdeaProjects/books/.venv/lib/python3.12/site-packages (from langchain_community) (3.12.15)\n",
      "Requirement already satisfied: tenacity!=8.4.0,<10,>=8.1.0 in /Users/kkkkkksssssaaaa/IdeaProjects/books/.venv/lib/python3.12/site-packages (from langchain_community) (9.1.2)\n",
      "Requirement already satisfied: dataclasses-json<0.7,>=0.5.7 in /Users/kkkkkksssssaaaa/IdeaProjects/books/.venv/lib/python3.12/site-packages (from langchain_community) (0.6.7)\n",
      "Requirement already satisfied: pydantic-settings<3.0.0,>=2.4.0 in /Users/kkkkkksssssaaaa/IdeaProjects/books/.venv/lib/python3.12/site-packages (from langchain_community) (2.10.1)\n",
      "Requirement already satisfied: langsmith>=0.1.125 in /Users/kkkkkksssssaaaa/IdeaProjects/books/.venv/lib/python3.12/site-packages (from langchain_community) (0.4.14)\n",
      "Requirement already satisfied: httpx-sse<1.0.0,>=0.4.0 in /Users/kkkkkksssssaaaa/IdeaProjects/books/.venv/lib/python3.12/site-packages (from langchain_community) (0.4.1)\n",
      "Requirement already satisfied: numpy>=1.26.2 in /Users/kkkkkksssssaaaa/IdeaProjects/books/.venv/lib/python3.12/site-packages (from langchain_community) (2.3.2)\n",
      "Requirement already satisfied: aiohappyeyeballs>=2.5.0 in /Users/kkkkkksssssaaaa/IdeaProjects/books/.venv/lib/python3.12/site-packages (from aiohttp<4.0.0,>=3.8.3->langchain_community) (2.6.1)\n",
      "Requirement already satisfied: aiosignal>=1.4.0 in /Users/kkkkkksssssaaaa/IdeaProjects/books/.venv/lib/python3.12/site-packages (from aiohttp<4.0.0,>=3.8.3->langchain_community) (1.4.0)\n",
      "Requirement already satisfied: attrs>=17.3.0 in /Users/kkkkkksssssaaaa/IdeaProjects/books/.venv/lib/python3.12/site-packages (from aiohttp<4.0.0,>=3.8.3->langchain_community) (25.3.0)\n",
      "Requirement already satisfied: frozenlist>=1.1.1 in /Users/kkkkkksssssaaaa/IdeaProjects/books/.venv/lib/python3.12/site-packages (from aiohttp<4.0.0,>=3.8.3->langchain_community) (1.7.0)\n",
      "Requirement already satisfied: multidict<7.0,>=4.5 in /Users/kkkkkksssssaaaa/IdeaProjects/books/.venv/lib/python3.12/site-packages (from aiohttp<4.0.0,>=3.8.3->langchain_community) (6.6.4)\n",
      "Requirement already satisfied: propcache>=0.2.0 in /Users/kkkkkksssssaaaa/IdeaProjects/books/.venv/lib/python3.12/site-packages (from aiohttp<4.0.0,>=3.8.3->langchain_community) (0.3.2)\n",
      "Requirement already satisfied: yarl<2.0,>=1.17.0 in /Users/kkkkkksssssaaaa/IdeaProjects/books/.venv/lib/python3.12/site-packages (from aiohttp<4.0.0,>=3.8.3->langchain_community) (1.20.1)\n",
      "Requirement already satisfied: marshmallow<4.0.0,>=3.18.0 in /Users/kkkkkksssssaaaa/IdeaProjects/books/.venv/lib/python3.12/site-packages (from dataclasses-json<0.7,>=0.5.7->langchain_community) (3.26.1)\n",
      "Requirement already satisfied: typing-inspect<1,>=0.4.0 in /Users/kkkkkksssssaaaa/IdeaProjects/books/.venv/lib/python3.12/site-packages (from dataclasses-json<0.7,>=0.5.7->langchain_community) (0.9.0)\n",
      "Requirement already satisfied: langchain-text-splitters<1.0.0,>=0.3.9 in /Users/kkkkkksssssaaaa/IdeaProjects/books/.venv/lib/python3.12/site-packages (from langchain<1.0.0,>=0.3.26->langchain_community) (0.3.9)\n",
      "Requirement already satisfied: pydantic<3.0.0,>=2.7.4 in /Users/kkkkkksssssaaaa/IdeaProjects/books/.venv/lib/python3.12/site-packages (from langchain<1.0.0,>=0.3.26->langchain_community) (2.11.7)\n",
      "Requirement already satisfied: jsonpatch<2.0,>=1.33 in /Users/kkkkkksssssaaaa/IdeaProjects/books/.venv/lib/python3.12/site-packages (from langchain-core<1.0.0,>=0.3.66->langchain_community) (1.33)\n",
      "Requirement already satisfied: typing-extensions>=4.7 in /Users/kkkkkksssssaaaa/IdeaProjects/books/.venv/lib/python3.12/site-packages (from langchain-core<1.0.0,>=0.3.66->langchain_community) (4.14.1)\n",
      "Requirement already satisfied: packaging>=23.2 in /Users/kkkkkksssssaaaa/IdeaProjects/books/.venv/lib/python3.12/site-packages (from langchain-core<1.0.0,>=0.3.66->langchain_community) (25.0)\n",
      "Requirement already satisfied: jsonpointer>=1.9 in /Users/kkkkkksssssaaaa/IdeaProjects/books/.venv/lib/python3.12/site-packages (from jsonpatch<2.0,>=1.33->langchain-core<1.0.0,>=0.3.66->langchain_community) (3.0.0)\n",
      "Requirement already satisfied: annotated-types>=0.6.0 in /Users/kkkkkksssssaaaa/IdeaProjects/books/.venv/lib/python3.12/site-packages (from pydantic<3.0.0,>=2.7.4->langchain<1.0.0,>=0.3.26->langchain_community) (0.7.0)\n",
      "Requirement already satisfied: pydantic-core==2.33.2 in /Users/kkkkkksssssaaaa/IdeaProjects/books/.venv/lib/python3.12/site-packages (from pydantic<3.0.0,>=2.7.4->langchain<1.0.0,>=0.3.26->langchain_community) (2.33.2)\n",
      "Requirement already satisfied: typing-inspection>=0.4.0 in /Users/kkkkkksssssaaaa/IdeaProjects/books/.venv/lib/python3.12/site-packages (from pydantic<3.0.0,>=2.7.4->langchain<1.0.0,>=0.3.26->langchain_community) (0.4.1)\n",
      "Requirement already satisfied: python-dotenv>=0.21.0 in /Users/kkkkkksssssaaaa/IdeaProjects/books/.venv/lib/python3.12/site-packages (from pydantic-settings<3.0.0,>=2.4.0->langchain_community) (1.1.1)\n",
      "Requirement already satisfied: charset_normalizer<4,>=2 in /Users/kkkkkksssssaaaa/IdeaProjects/books/.venv/lib/python3.12/site-packages (from requests<3,>=2->langchain_community) (3.4.3)\n",
      "Requirement already satisfied: idna<4,>=2.5 in /Users/kkkkkksssssaaaa/IdeaProjects/books/.venv/lib/python3.12/site-packages (from requests<3,>=2->langchain_community) (3.10)\n",
      "Requirement already satisfied: urllib3<3,>=1.21.1 in /Users/kkkkkksssssaaaa/IdeaProjects/books/.venv/lib/python3.12/site-packages (from requests<3,>=2->langchain_community) (2.5.0)\n",
      "Requirement already satisfied: certifi>=2017.4.17 in /Users/kkkkkksssssaaaa/IdeaProjects/books/.venv/lib/python3.12/site-packages (from requests<3,>=2->langchain_community) (2025.8.3)\n",
      "Requirement already satisfied: mypy-extensions>=0.3.0 in /Users/kkkkkksssssaaaa/IdeaProjects/books/.venv/lib/python3.12/site-packages (from typing-inspect<1,>=0.4.0->dataclasses-json<0.7,>=0.5.7->langchain_community) (1.1.0)\n",
      "Requirement already satisfied: httpx<1,>=0.23.0 in /Users/kkkkkksssssaaaa/IdeaProjects/books/.venv/lib/python3.12/site-packages (from langsmith>=0.1.125->langchain_community) (0.28.1)\n",
      "Requirement already satisfied: orjson>=3.9.14 in /Users/kkkkkksssssaaaa/IdeaProjects/books/.venv/lib/python3.12/site-packages (from langsmith>=0.1.125->langchain_community) (3.11.2)\n",
      "Requirement already satisfied: requests-toolbelt>=1.0.0 in /Users/kkkkkksssssaaaa/IdeaProjects/books/.venv/lib/python3.12/site-packages (from langsmith>=0.1.125->langchain_community) (1.0.0)\n",
      "Requirement already satisfied: zstandard>=0.23.0 in /Users/kkkkkksssssaaaa/IdeaProjects/books/.venv/lib/python3.12/site-packages (from langsmith>=0.1.125->langchain_community) (0.24.0)\n",
      "Requirement already satisfied: anyio in /Users/kkkkkksssssaaaa/IdeaProjects/books/.venv/lib/python3.12/site-packages (from httpx<1,>=0.23.0->langsmith>=0.1.125->langchain_community) (4.10.0)\n",
      "Requirement already satisfied: httpcore==1.* in /Users/kkkkkksssssaaaa/IdeaProjects/books/.venv/lib/python3.12/site-packages (from httpx<1,>=0.23.0->langsmith>=0.1.125->langchain_community) (1.0.9)\n",
      "Requirement already satisfied: h11>=0.16 in /Users/kkkkkksssssaaaa/IdeaProjects/books/.venv/lib/python3.12/site-packages (from httpcore==1.*->httpx<1,>=0.23.0->langsmith>=0.1.125->langchain_community) (0.16.0)\n",
      "Requirement already satisfied: sniffio>=1.1 in /Users/kkkkkksssssaaaa/IdeaProjects/books/.venv/lib/python3.12/site-packages (from anyio->httpx<1,>=0.23.0->langsmith>=0.1.125->langchain_community) (1.3.1)\n",
      "Note: you may need to restart the kernel to use updated packages.\n"
     ]
    }
   ],
   "source": [
    "%pip install langchain_community"
   ]
  },
  {
   "cell_type": "code",
   "execution_count": 2,
   "id": "6942230b",
   "metadata": {},
   "outputs": [
    {
     "data": {
      "text/plain": [
       "AIMessage(content='제가 알고 있는 정보에 따르면, 아이브의 최신 곡은 2023년 10월에 발매된 \"상상 더하기\"입니다. 이 곡은 아이브의 독특한 콘셉트와 매력을 잘 보여주고 있습니다. 더 구체적인 내용이나 추가적인 도움이 필요하시면 말씀해 주세요!', additional_kwargs={'refusal': None}, response_metadata={'token_usage': {'completion_tokens': 72, 'prompt_tokens': 20, 'total_tokens': 92, 'completion_tokens_details': {'accepted_prediction_tokens': 0, 'audio_tokens': 0, 'reasoning_tokens': 0, 'rejected_prediction_tokens': 0}, 'prompt_tokens_details': {'audio_tokens': 0, 'cached_tokens': 0}}, 'model_name': 'gpt-4o-mini-2024-07-18', 'system_fingerprint': 'fp_560af6e559', 'id': 'chatcmpl-C9BGlxWW9GFRZztZ9ss2XJ1llB0lG', 'service_tier': 'default', 'finish_reason': 'stop', 'logprobs': None}, id='run--ef0f6036-b45f-43f4-abae-28254e641dbe-0', usage_metadata={'input_tokens': 20, 'output_tokens': 72, 'total_tokens': 92, 'input_token_details': {'audio': 0, 'cache_read': 0}, 'output_token_details': {'audio': 0, 'reasoning': 0}})"
      ]
     },
     "execution_count": 2,
     "metadata": {},
     "output_type": "execute_result"
    }
   ],
   "source": [
    "from langchain_openai import ChatOpenAI\n",
    "import os\n",
    "from dotenv import load_dotenv\n",
    "\n",
    "load_dotenv()\n",
    "api_key = os.getenv('OPENAI_API_KEY')\n",
    "\n",
    "os.environ['OPENAI_API_KEY'] = api_key\n",
    "\n",
    "model = ChatOpenAI(model=\"gpt-4o-mini\")\n",
    "\n",
    "model.invoke(\"최근에 발매된 아이브 노래가 뭐야?\")"
   ]
  },
  {
   "cell_type": "code",
   "execution_count": 10,
   "id": "c97bf433",
   "metadata": {},
   "outputs": [
    {
     "name": "stderr",
     "output_type": "stream",
     "text": [
      "284.43s - pydevd: Sending message related to process being replaced timed-out after 5 seconds\n"
     ]
    },
    {
     "name": "stdout",
     "output_type": "stream",
     "text": [
      "Requirement already satisfied: duckduckgo-search in /Users/kkkkkksssssaaaa/IdeaProjects/books/doitllm/venv-doit-llm/lib/python3.12/site-packages (8.1.1)\n",
      "Requirement already satisfied: click>=8.1.8 in /Users/kkkkkksssssaaaa/IdeaProjects/books/doitllm/venv-doit-llm/lib/python3.12/site-packages (from duckduckgo-search) (8.2.1)\n",
      "Requirement already satisfied: primp>=0.15.0 in /Users/kkkkkksssssaaaa/IdeaProjects/books/doitllm/venv-doit-llm/lib/python3.12/site-packages (from duckduckgo-search) (0.15.0)\n",
      "Requirement already satisfied: lxml>=5.3.0 in /Users/kkkkkksssssaaaa/IdeaProjects/books/doitllm/venv-doit-llm/lib/python3.12/site-packages (from duckduckgo-search) (6.0.1)\n",
      "\n",
      "\u001b[1m[\u001b[0m\u001b[34;49mnotice\u001b[0m\u001b[1;39;49m]\u001b[0m\u001b[39;49m A new release of pip is available: \u001b[0m\u001b[31;49m25.1.1\u001b[0m\u001b[39;49m -> \u001b[0m\u001b[32;49m25.2\u001b[0m\n",
      "\u001b[1m[\u001b[0m\u001b[34;49mnotice\u001b[0m\u001b[1;39;49m]\u001b[0m\u001b[39;49m To update, run: \u001b[0m\u001b[32;49mpip install --upgrade pip\u001b[0m\n",
      "Note: you may need to restart the kernel to use updated packages.\n"
     ]
    },
    {
     "name": "stderr",
     "output_type": "stream",
     "text": [
      "290.18s - pydevd: Sending message related to process being replaced timed-out after 5 seconds\n"
     ]
    },
    {
     "name": "stdout",
     "output_type": "stream",
     "text": [
      "Collecting langchain-community\n",
      "  Downloading langchain_community-0.3.28-py3-none-any.whl.metadata (2.9 kB)\n",
      "Collecting langchain-core<1.0.0,>=0.3.74 (from langchain-community)\n",
      "  Downloading langchain_core-0.3.75-py3-none-any.whl.metadata (5.7 kB)\n",
      "Requirement already satisfied: langchain<1.0.0,>=0.3.27 in /Users/kkkkkksssssaaaa/IdeaProjects/books/doitllm/venv-doit-llm/lib/python3.12/site-packages (from langchain-community) (0.3.27)\n",
      "Requirement already satisfied: SQLAlchemy<3,>=1.4 in /Users/kkkkkksssssaaaa/IdeaProjects/books/doitllm/venv-doit-llm/lib/python3.12/site-packages (from langchain-community) (2.0.42)\n",
      "Collecting requests<3,>=2.32.5 (from langchain-community)\n",
      "  Using cached requests-2.32.5-py3-none-any.whl.metadata (4.9 kB)\n",
      "Requirement already satisfied: PyYAML>=5.3 in /Users/kkkkkksssssaaaa/IdeaProjects/books/doitllm/venv-doit-llm/lib/python3.12/site-packages (from langchain-community) (6.0.2)\n",
      "Collecting aiohttp<4.0.0,>=3.8.3 (from langchain-community)\n",
      "  Using cached aiohttp-3.12.15-cp312-cp312-macosx_11_0_arm64.whl.metadata (7.7 kB)\n",
      "Requirement already satisfied: tenacity!=8.4.0,<10,>=8.1.0 in /Users/kkkkkksssssaaaa/IdeaProjects/books/doitllm/venv-doit-llm/lib/python3.12/site-packages (from langchain-community) (9.1.2)\n",
      "Collecting dataclasses-json<0.7,>=0.6.7 (from langchain-community)\n",
      "  Using cached dataclasses_json-0.6.7-py3-none-any.whl.metadata (25 kB)\n",
      "Collecting pydantic-settings<3.0.0,>=2.10.1 (from langchain-community)\n",
      "  Using cached pydantic_settings-2.10.1-py3-none-any.whl.metadata (3.4 kB)\n",
      "Requirement already satisfied: langsmith>=0.1.125 in /Users/kkkkkksssssaaaa/IdeaProjects/books/doitllm/venv-doit-llm/lib/python3.12/site-packages (from langchain-community) (0.4.11)\n",
      "Collecting httpx-sse<1.0.0,>=0.4.0 (from langchain-community)\n",
      "  Using cached httpx_sse-0.4.1-py3-none-any.whl.metadata (9.4 kB)\n",
      "Requirement already satisfied: numpy>=1.26.2 in /Users/kkkkkksssssaaaa/IdeaProjects/books/doitllm/venv-doit-llm/lib/python3.12/site-packages (from langchain-community) (2.3.1)\n",
      "Collecting aiohappyeyeballs>=2.5.0 (from aiohttp<4.0.0,>=3.8.3->langchain-community)\n",
      "  Using cached aiohappyeyeballs-2.6.1-py3-none-any.whl.metadata (5.9 kB)\n",
      "Collecting aiosignal>=1.4.0 (from aiohttp<4.0.0,>=3.8.3->langchain-community)\n",
      "  Using cached aiosignal-1.4.0-py3-none-any.whl.metadata (3.7 kB)\n",
      "Requirement already satisfied: attrs>=17.3.0 in /Users/kkkkkksssssaaaa/IdeaProjects/books/doitllm/venv-doit-llm/lib/python3.12/site-packages (from aiohttp<4.0.0,>=3.8.3->langchain-community) (25.3.0)\n",
      "Collecting frozenlist>=1.1.1 (from aiohttp<4.0.0,>=3.8.3->langchain-community)\n",
      "  Using cached frozenlist-1.7.0-cp312-cp312-macosx_11_0_arm64.whl.metadata (18 kB)\n",
      "Collecting multidict<7.0,>=4.5 (from aiohttp<4.0.0,>=3.8.3->langchain-community)\n",
      "  Using cached multidict-6.6.4-cp312-cp312-macosx_11_0_arm64.whl.metadata (5.3 kB)\n",
      "Collecting propcache>=0.2.0 (from aiohttp<4.0.0,>=3.8.3->langchain-community)\n",
      "  Using cached propcache-0.3.2-cp312-cp312-macosx_11_0_arm64.whl.metadata (12 kB)\n",
      "Collecting yarl<2.0,>=1.17.0 (from aiohttp<4.0.0,>=3.8.3->langchain-community)\n",
      "  Using cached yarl-1.20.1-cp312-cp312-macosx_11_0_arm64.whl.metadata (73 kB)\n",
      "Collecting marshmallow<4.0.0,>=3.18.0 (from dataclasses-json<0.7,>=0.6.7->langchain-community)\n",
      "  Using cached marshmallow-3.26.1-py3-none-any.whl.metadata (7.3 kB)\n",
      "Collecting typing-inspect<1,>=0.4.0 (from dataclasses-json<0.7,>=0.6.7->langchain-community)\n",
      "  Using cached typing_inspect-0.9.0-py3-none-any.whl.metadata (1.5 kB)\n",
      "Requirement already satisfied: langchain-text-splitters<1.0.0,>=0.3.9 in /Users/kkkkkksssssaaaa/IdeaProjects/books/doitllm/venv-doit-llm/lib/python3.12/site-packages (from langchain<1.0.0,>=0.3.27->langchain-community) (0.3.9)\n",
      "Requirement already satisfied: pydantic<3.0.0,>=2.7.4 in /Users/kkkkkksssssaaaa/IdeaProjects/books/doitllm/venv-doit-llm/lib/python3.12/site-packages (from langchain<1.0.0,>=0.3.27->langchain-community) (2.11.7)\n",
      "Requirement already satisfied: jsonpatch<2.0,>=1.33 in /Users/kkkkkksssssaaaa/IdeaProjects/books/doitllm/venv-doit-llm/lib/python3.12/site-packages (from langchain-core<1.0.0,>=0.3.74->langchain-community) (1.33)\n",
      "Requirement already satisfied: typing-extensions>=4.7 in /Users/kkkkkksssssaaaa/IdeaProjects/books/doitllm/venv-doit-llm/lib/python3.12/site-packages (from langchain-core<1.0.0,>=0.3.74->langchain-community) (4.14.1)\n",
      "Requirement already satisfied: packaging>=23.2 in /Users/kkkkkksssssaaaa/IdeaProjects/books/doitllm/venv-doit-llm/lib/python3.12/site-packages (from langchain-core<1.0.0,>=0.3.74->langchain-community) (25.0)\n",
      "Requirement already satisfied: jsonpointer>=1.9 in /Users/kkkkkksssssaaaa/IdeaProjects/books/doitllm/venv-doit-llm/lib/python3.12/site-packages (from jsonpatch<2.0,>=1.33->langchain-core<1.0.0,>=0.3.74->langchain-community) (3.0.0)\n",
      "Requirement already satisfied: annotated-types>=0.6.0 in /Users/kkkkkksssssaaaa/IdeaProjects/books/doitllm/venv-doit-llm/lib/python3.12/site-packages (from pydantic<3.0.0,>=2.7.4->langchain<1.0.0,>=0.3.27->langchain-community) (0.7.0)\n",
      "Requirement already satisfied: pydantic-core==2.33.2 in /Users/kkkkkksssssaaaa/IdeaProjects/books/doitllm/venv-doit-llm/lib/python3.12/site-packages (from pydantic<3.0.0,>=2.7.4->langchain<1.0.0,>=0.3.27->langchain-community) (2.33.2)\n",
      "Requirement already satisfied: typing-inspection>=0.4.0 in /Users/kkkkkksssssaaaa/IdeaProjects/books/doitllm/venv-doit-llm/lib/python3.12/site-packages (from pydantic<3.0.0,>=2.7.4->langchain<1.0.0,>=0.3.27->langchain-community) (0.4.1)\n",
      "Requirement already satisfied: python-dotenv>=0.21.0 in /Users/kkkkkksssssaaaa/IdeaProjects/books/doitllm/venv-doit-llm/lib/python3.12/site-packages (from pydantic-settings<3.0.0,>=2.10.1->langchain-community) (1.1.1)\n",
      "Requirement already satisfied: charset_normalizer<4,>=2 in /Users/kkkkkksssssaaaa/IdeaProjects/books/doitllm/venv-doit-llm/lib/python3.12/site-packages (from requests<3,>=2.32.5->langchain-community) (3.4.2)\n",
      "Requirement already satisfied: idna<4,>=2.5 in /Users/kkkkkksssssaaaa/IdeaProjects/books/doitllm/venv-doit-llm/lib/python3.12/site-packages (from requests<3,>=2.32.5->langchain-community) (3.10)\n",
      "Requirement already satisfied: urllib3<3,>=1.21.1 in /Users/kkkkkksssssaaaa/IdeaProjects/books/doitllm/venv-doit-llm/lib/python3.12/site-packages (from requests<3,>=2.32.5->langchain-community) (2.5.0)\n",
      "Requirement already satisfied: certifi>=2017.4.17 in /Users/kkkkkksssssaaaa/IdeaProjects/books/doitllm/venv-doit-llm/lib/python3.12/site-packages (from requests<3,>=2.32.5->langchain-community) (2025.7.9)\n",
      "Collecting mypy-extensions>=0.3.0 (from typing-inspect<1,>=0.4.0->dataclasses-json<0.7,>=0.6.7->langchain-community)\n",
      "  Using cached mypy_extensions-1.1.0-py3-none-any.whl.metadata (1.1 kB)\n",
      "Requirement already satisfied: httpx<1,>=0.23.0 in /Users/kkkkkksssssaaaa/IdeaProjects/books/doitllm/venv-doit-llm/lib/python3.12/site-packages (from langsmith>=0.1.125->langchain-community) (0.28.1)\n",
      "Requirement already satisfied: orjson>=3.9.14 in /Users/kkkkkksssssaaaa/IdeaProjects/books/doitllm/venv-doit-llm/lib/python3.12/site-packages (from langsmith>=0.1.125->langchain-community) (3.11.1)\n",
      "Requirement already satisfied: requests-toolbelt>=1.0.0 in /Users/kkkkkksssssaaaa/IdeaProjects/books/doitllm/venv-doit-llm/lib/python3.12/site-packages (from langsmith>=0.1.125->langchain-community) (1.0.0)\n",
      "Requirement already satisfied: zstandard>=0.23.0 in /Users/kkkkkksssssaaaa/IdeaProjects/books/doitllm/venv-doit-llm/lib/python3.12/site-packages (from langsmith>=0.1.125->langchain-community) (0.23.0)\n",
      "Requirement already satisfied: anyio in /Users/kkkkkksssssaaaa/IdeaProjects/books/doitllm/venv-doit-llm/lib/python3.12/site-packages (from httpx<1,>=0.23.0->langsmith>=0.1.125->langchain-community) (4.9.0)\n",
      "Requirement already satisfied: httpcore==1.* in /Users/kkkkkksssssaaaa/IdeaProjects/books/doitllm/venv-doit-llm/lib/python3.12/site-packages (from httpx<1,>=0.23.0->langsmith>=0.1.125->langchain-community) (1.0.9)\n",
      "Requirement already satisfied: h11>=0.16 in /Users/kkkkkksssssaaaa/IdeaProjects/books/doitllm/venv-doit-llm/lib/python3.12/site-packages (from httpcore==1.*->httpx<1,>=0.23.0->langsmith>=0.1.125->langchain-community) (0.16.0)\n",
      "Requirement already satisfied: sniffio>=1.1 in /Users/kkkkkksssssaaaa/IdeaProjects/books/doitllm/venv-doit-llm/lib/python3.12/site-packages (from anyio->httpx<1,>=0.23.0->langsmith>=0.1.125->langchain-community) (1.3.1)\n",
      "Downloading langchain_community-0.3.28-py3-none-any.whl (2.5 MB)\n",
      "\u001b[2K   \u001b[90m━━━━━━━━━━━━━━━━━━━━━━━━━━━━━━━━━━━━━━━━\u001b[0m \u001b[32m2.5/2.5 MB\u001b[0m \u001b[31m11.0 MB/s\u001b[0m eta \u001b[36m0:00:00\u001b[0ma \u001b[36m0:00:01\u001b[0m\n",
      "\u001b[?25hUsing cached aiohttp-3.12.15-cp312-cp312-macosx_11_0_arm64.whl (469 kB)\n",
      "Using cached dataclasses_json-0.6.7-py3-none-any.whl (28 kB)\n",
      "Using cached httpx_sse-0.4.1-py3-none-any.whl (8.1 kB)\n",
      "Downloading langchain_core-0.3.75-py3-none-any.whl (443 kB)\n",
      "Using cached marshmallow-3.26.1-py3-none-any.whl (50 kB)\n",
      "Using cached multidict-6.6.4-cp312-cp312-macosx_11_0_arm64.whl (43 kB)\n",
      "Using cached pydantic_settings-2.10.1-py3-none-any.whl (45 kB)\n",
      "Using cached requests-2.32.5-py3-none-any.whl (64 kB)\n",
      "Using cached typing_inspect-0.9.0-py3-none-any.whl (8.8 kB)\n",
      "Using cached yarl-1.20.1-cp312-cp312-macosx_11_0_arm64.whl (89 kB)\n",
      "Using cached aiohappyeyeballs-2.6.1-py3-none-any.whl (15 kB)\n",
      "Using cached aiosignal-1.4.0-py3-none-any.whl (7.5 kB)\n",
      "Using cached frozenlist-1.7.0-cp312-cp312-macosx_11_0_arm64.whl (46 kB)\n",
      "Using cached mypy_extensions-1.1.0-py3-none-any.whl (5.0 kB)\n",
      "Using cached propcache-0.3.2-cp312-cp312-macosx_11_0_arm64.whl (43 kB)\n",
      "Installing collected packages: requests, propcache, mypy-extensions, multidict, marshmallow, httpx-sse, frozenlist, aiohappyeyeballs, yarl, typing-inspect, aiosignal, pydantic-settings, dataclasses-json, aiohttp, langchain-core, langchain-community\n",
      "\u001b[2K  Attempting uninstall: requests\n",
      "\u001b[2K    Found existing installation: requests 2.32.4\n",
      "\u001b[2K    Uninstalling requests-2.32.4:\n",
      "\u001b[2K      Successfully uninstalled requests-2.32.4\n",
      "\u001b[2K  Attempting uninstall: langchain-corem\u001b[91m╸\u001b[0m\u001b[90m━━━━━━━━━━━━\u001b[0m \u001b[32m11/16\u001b[0m [pydantic-settings]\n",
      "\u001b[2K    Found existing installation: langchain-core 0.3.72━━━━━━━━\u001b[0m \u001b[32m11/16\u001b[0m [pydantic-settings]\n",
      "\u001b[2K    Uninstalling langchain-core-0.3.72:m╸\u001b[0m\u001b[90m━━━━━━━━━━━━\u001b[0m \u001b[32m11/16\u001b[0m [pydantic-settings]\n",
      "\u001b[2K      Successfully uninstalled langchain-core-0.3.72━━━━━━━━━━\u001b[0m \u001b[32m11/16\u001b[0m [pydantic-settings]\n",
      "\u001b[2K   \u001b[90m━━━━━━━━━━━━━━━━━━━━━━━━━━━━━━━━━━━━━━━━\u001b[0m \u001b[32m16/16\u001b[0m [langchain-community]ngchain-community]\n",
      "\u001b[1A\u001b[2KSuccessfully installed aiohappyeyeballs-2.6.1 aiohttp-3.12.15 aiosignal-1.4.0 dataclasses-json-0.6.7 frozenlist-1.7.0 httpx-sse-0.4.1 langchain-community-0.3.28 langchain-core-0.3.75 marshmallow-3.26.1 multidict-6.6.4 mypy-extensions-1.1.0 propcache-0.3.2 pydantic-settings-2.10.1 requests-2.32.5 typing-inspect-0.9.0 yarl-1.20.1\n",
      "\n",
      "\u001b[1m[\u001b[0m\u001b[34;49mnotice\u001b[0m\u001b[1;39;49m]\u001b[0m\u001b[39;49m A new release of pip is available: \u001b[0m\u001b[31;49m25.1.1\u001b[0m\u001b[39;49m -> \u001b[0m\u001b[32;49m25.2\u001b[0m\n",
      "\u001b[1m[\u001b[0m\u001b[34;49mnotice\u001b[0m\u001b[1;39;49m]\u001b[0m\u001b[39;49m To update, run: \u001b[0m\u001b[32;49mpip install --upgrade pip\u001b[0m\n",
      "Note: you may need to restart the kernel to use updated packages.\n"
     ]
    },
    {
     "ename": "UnboundLocalError",
     "evalue": "cannot access local variable 'child' where it is not associated with a value",
     "output_type": "error",
     "traceback": [
      "\u001b[31m---------------------------------------------------------------------------\u001b[39m",
      "\u001b[31mKeyboardInterrupt\u001b[39m                         Traceback (most recent call last)",
      "\u001b[36mFile \u001b[39m\u001b[32m~/IdeaProjects/books/doitllm/venv-doit-llm/lib/python3.12/site-packages/IPython/utils/_process_posix.py:125\u001b[39m, in \u001b[36mProcessHandler.system\u001b[39m\u001b[34m(self, cmd)\u001b[39m\n\u001b[32m    124\u001b[39m \u001b[38;5;28;01melse\u001b[39;00m:\n\u001b[32m--> \u001b[39m\u001b[32m125\u001b[39m     child = \u001b[43mpexpect\u001b[49m\u001b[43m.\u001b[49m\u001b[43mspawn\u001b[49m\u001b[43m(\u001b[49m\u001b[38;5;28;43mself\u001b[39;49m\u001b[43m.\u001b[49m\u001b[43msh\u001b[49m\u001b[43m,\u001b[49m\u001b[43m \u001b[49m\u001b[43margs\u001b[49m\u001b[43m=\u001b[49m\u001b[43m[\u001b[49m\u001b[33;43m'\u001b[39;49m\u001b[33;43m-c\u001b[39;49m\u001b[33;43m'\u001b[39;49m\u001b[43m,\u001b[49m\u001b[43m \u001b[49m\u001b[43mcmd\u001b[49m\u001b[43m]\u001b[49m\u001b[43m)\u001b[49m  \u001b[38;5;66;03m# Vanilla Pexpect\u001b[39;00m\n\u001b[32m    126\u001b[39m flush = sys.stdout.flush\n",
      "\u001b[36mFile \u001b[39m\u001b[32m~/IdeaProjects/books/doitllm/venv-doit-llm/lib/python3.12/site-packages/pexpect/pty_spawn.py:205\u001b[39m, in \u001b[36mspawn.__init__\u001b[39m\u001b[34m(self, command, args, timeout, maxread, searchwindowsize, logfile, cwd, env, ignore_sighup, echo, preexec_fn, encoding, codec_errors, dimensions, use_poll)\u001b[39m\n\u001b[32m    204\u001b[39m \u001b[38;5;28;01melse\u001b[39;00m:\n\u001b[32m--> \u001b[39m\u001b[32m205\u001b[39m     \u001b[38;5;28;43mself\u001b[39;49m\u001b[43m.\u001b[49m\u001b[43m_spawn\u001b[49m\u001b[43m(\u001b[49m\u001b[43mcommand\u001b[49m\u001b[43m,\u001b[49m\u001b[43m \u001b[49m\u001b[43margs\u001b[49m\u001b[43m,\u001b[49m\u001b[43m \u001b[49m\u001b[43mpreexec_fn\u001b[49m\u001b[43m,\u001b[49m\u001b[43m \u001b[49m\u001b[43mdimensions\u001b[49m\u001b[43m)\u001b[49m\n\u001b[32m    206\u001b[39m \u001b[38;5;28mself\u001b[39m.use_poll = use_poll\n",
      "\u001b[36mFile \u001b[39m\u001b[32m~/IdeaProjects/books/doitllm/venv-doit-llm/lib/python3.12/site-packages/pexpect/pty_spawn.py:303\u001b[39m, in \u001b[36mspawn._spawn\u001b[39m\u001b[34m(self, command, args, preexec_fn, dimensions)\u001b[39m\n\u001b[32m    300\u001b[39m     \u001b[38;5;28mself\u001b[39m.args = [a \u001b[38;5;28;01mif\u001b[39;00m \u001b[38;5;28misinstance\u001b[39m(a, \u001b[38;5;28mbytes\u001b[39m) \u001b[38;5;28;01melse\u001b[39;00m a.encode(\u001b[38;5;28mself\u001b[39m.encoding)\n\u001b[32m    301\u001b[39m                  \u001b[38;5;28;01mfor\u001b[39;00m a \u001b[38;5;129;01min\u001b[39;00m \u001b[38;5;28mself\u001b[39m.args]\n\u001b[32m--> \u001b[39m\u001b[32m303\u001b[39m \u001b[38;5;28mself\u001b[39m.ptyproc = \u001b[38;5;28;43mself\u001b[39;49m\u001b[43m.\u001b[49m\u001b[43m_spawnpty\u001b[49m\u001b[43m(\u001b[49m\u001b[38;5;28;43mself\u001b[39;49m\u001b[43m.\u001b[49m\u001b[43margs\u001b[49m\u001b[43m,\u001b[49m\u001b[43m \u001b[49m\u001b[43menv\u001b[49m\u001b[43m=\u001b[49m\u001b[38;5;28;43mself\u001b[39;49m\u001b[43m.\u001b[49m\u001b[43menv\u001b[49m\u001b[43m,\u001b[49m\n\u001b[32m    304\u001b[39m \u001b[43m                             \u001b[49m\u001b[43mcwd\u001b[49m\u001b[43m=\u001b[49m\u001b[38;5;28;43mself\u001b[39;49m\u001b[43m.\u001b[49m\u001b[43mcwd\u001b[49m\u001b[43m,\u001b[49m\u001b[43m \u001b[49m\u001b[43m*\u001b[49m\u001b[43m*\u001b[49m\u001b[43mkwargs\u001b[49m\u001b[43m)\u001b[49m\n\u001b[32m    306\u001b[39m \u001b[38;5;28mself\u001b[39m.pid = \u001b[38;5;28mself\u001b[39m.ptyproc.pid\n",
      "\u001b[36mFile \u001b[39m\u001b[32m~/IdeaProjects/books/doitllm/venv-doit-llm/lib/python3.12/site-packages/pexpect/pty_spawn.py:315\u001b[39m, in \u001b[36mspawn._spawnpty\u001b[39m\u001b[34m(self, args, **kwargs)\u001b[39m\n\u001b[32m    314\u001b[39m \u001b[38;5;250m\u001b[39m\u001b[33;03m'''Spawn a pty and return an instance of PtyProcess.'''\u001b[39;00m\n\u001b[32m--> \u001b[39m\u001b[32m315\u001b[39m \u001b[38;5;28;01mreturn\u001b[39;00m \u001b[43mptyprocess\u001b[49m\u001b[43m.\u001b[49m\u001b[43mPtyProcess\u001b[49m\u001b[43m.\u001b[49m\u001b[43mspawn\u001b[49m\u001b[43m(\u001b[49m\u001b[43margs\u001b[49m\u001b[43m,\u001b[49m\u001b[43m \u001b[49m\u001b[43m*\u001b[49m\u001b[43m*\u001b[49m\u001b[43mkwargs\u001b[49m\u001b[43m)\u001b[49m\n",
      "\u001b[36mFile \u001b[39m\u001b[32m~/IdeaProjects/books/doitllm/venv-doit-llm/lib/python3.12/site-packages/ptyprocess/ptyprocess.py:315\u001b[39m, in \u001b[36mPtyProcess.spawn\u001b[39m\u001b[34m(cls, argv, cwd, env, echo, preexec_fn, dimensions, pass_fds)\u001b[39m\n\u001b[32m    314\u001b[39m os.close(exec_err_pipe_write)\n\u001b[32m--> \u001b[39m\u001b[32m315\u001b[39m exec_err_data = \u001b[43mos\u001b[49m\u001b[43m.\u001b[49m\u001b[43mread\u001b[49m\u001b[43m(\u001b[49m\u001b[43mexec_err_pipe_read\u001b[49m\u001b[43m,\u001b[49m\u001b[43m \u001b[49m\u001b[32;43m4096\u001b[39;49m\u001b[43m)\u001b[49m\n\u001b[32m    316\u001b[39m os.close(exec_err_pipe_read)\n",
      "\u001b[31mKeyboardInterrupt\u001b[39m: ",
      "\nDuring handling of the above exception, another exception occurred:\n",
      "\u001b[31mUnboundLocalError\u001b[39m                         Traceback (most recent call last)",
      "\u001b[36mCell\u001b[39m\u001b[36m \u001b[39m\u001b[32mIn[10]\u001b[39m\u001b[32m, line 3\u001b[39m\n\u001b[32m      1\u001b[39m get_ipython().run_line_magic(\u001b[33m'\u001b[39m\u001b[33mpip\u001b[39m\u001b[33m'\u001b[39m, \u001b[33m'\u001b[39m\u001b[33minstall -U duckduckgo-search\u001b[39m\u001b[33m'\u001b[39m)\n\u001b[32m      2\u001b[39m get_ipython().run_line_magic(\u001b[33m'\u001b[39m\u001b[33mpip\u001b[39m\u001b[33m'\u001b[39m, \u001b[33m'\u001b[39m\u001b[33minstall -U langchain-community\u001b[39m\u001b[33m'\u001b[39m)\n\u001b[32m----> \u001b[39m\u001b[32m3\u001b[39m \u001b[43mget_ipython\u001b[49m\u001b[43m(\u001b[49m\u001b[43m)\u001b[49m\u001b[43m.\u001b[49m\u001b[43mrun_line_magic\u001b[49m\u001b[43m(\u001b[49m\u001b[33;43m'\u001b[39;49m\u001b[33;43mpip\u001b[39;49m\u001b[33;43m'\u001b[39;49m\u001b[43m,\u001b[49m\u001b[43m \u001b[49m\u001b[33;43m'\u001b[39;49m\u001b[33;43minstall --upgrade pip\u001b[39;49m\u001b[33;43m'\u001b[39;49m\u001b[43m)\u001b[49m\n",
      "\u001b[36mFile \u001b[39m\u001b[32m~/IdeaProjects/books/doitllm/venv-doit-llm/lib/python3.12/site-packages/IPython/core/interactiveshell.py:2504\u001b[39m, in \u001b[36mInteractiveShell.run_line_magic\u001b[39m\u001b[34m(self, magic_name, line, _stack_depth)\u001b[39m\n\u001b[32m   2502\u001b[39m     kwargs[\u001b[33m'\u001b[39m\u001b[33mlocal_ns\u001b[39m\u001b[33m'\u001b[39m] = \u001b[38;5;28mself\u001b[39m.get_local_scope(stack_depth)\n\u001b[32m   2503\u001b[39m \u001b[38;5;28;01mwith\u001b[39;00m \u001b[38;5;28mself\u001b[39m.builtin_trap:\n\u001b[32m-> \u001b[39m\u001b[32m2504\u001b[39m     result = \u001b[43mfn\u001b[49m\u001b[43m(\u001b[49m\u001b[43m*\u001b[49m\u001b[43margs\u001b[49m\u001b[43m,\u001b[49m\u001b[43m \u001b[49m\u001b[43m*\u001b[49m\u001b[43m*\u001b[49m\u001b[43mkwargs\u001b[49m\u001b[43m)\u001b[49m\n\u001b[32m   2506\u001b[39m \u001b[38;5;66;03m# The code below prevents the output from being displayed\u001b[39;00m\n\u001b[32m   2507\u001b[39m \u001b[38;5;66;03m# when using magics with decorator @output_can_be_silenced\u001b[39;00m\n\u001b[32m   2508\u001b[39m \u001b[38;5;66;03m# when the last Python token in the expression is a ';'.\u001b[39;00m\n\u001b[32m   2509\u001b[39m \u001b[38;5;28;01mif\u001b[39;00m \u001b[38;5;28mgetattr\u001b[39m(fn, magic.MAGIC_OUTPUT_CAN_BE_SILENCED, \u001b[38;5;28;01mFalse\u001b[39;00m):\n",
      "\u001b[36mFile \u001b[39m\u001b[32m~/IdeaProjects/books/doitllm/venv-doit-llm/lib/python3.12/site-packages/IPython/core/magics/packaging.py:105\u001b[39m, in \u001b[36mPackagingMagics.pip\u001b[39m\u001b[34m(self, line)\u001b[39m\n\u001b[32m    102\u001b[39m \u001b[38;5;28;01melse\u001b[39;00m:\n\u001b[32m    103\u001b[39m     python = shlex.quote(python)\n\u001b[32m--> \u001b[39m\u001b[32m105\u001b[39m \u001b[38;5;28;43mself\u001b[39;49m\u001b[43m.\u001b[49m\u001b[43mshell\u001b[49m\u001b[43m.\u001b[49m\u001b[43msystem\u001b[49m\u001b[43m(\u001b[49m\u001b[33;43m\"\u001b[39;49m\u001b[33;43m \u001b[39;49m\u001b[33;43m\"\u001b[39;49m\u001b[43m.\u001b[49m\u001b[43mjoin\u001b[49m\u001b[43m(\u001b[49m\u001b[43m[\u001b[49m\u001b[43mpython\u001b[49m\u001b[43m,\u001b[49m\u001b[43m \u001b[49m\u001b[33;43m\"\u001b[39;49m\u001b[33;43m-m\u001b[39;49m\u001b[33;43m\"\u001b[39;49m\u001b[43m,\u001b[49m\u001b[43m \u001b[49m\u001b[33;43m\"\u001b[39;49m\u001b[33;43mpip\u001b[39;49m\u001b[33;43m\"\u001b[39;49m\u001b[43m,\u001b[49m\u001b[43m \u001b[49m\u001b[43mline\u001b[49m\u001b[43m]\u001b[49m\u001b[43m)\u001b[49m\u001b[43m)\u001b[49m\n\u001b[32m    107\u001b[39m \u001b[38;5;28mprint\u001b[39m(\u001b[33m\"\u001b[39m\u001b[33mNote: you may need to restart the kernel to use updated packages.\u001b[39m\u001b[33m\"\u001b[39m)\n",
      "\u001b[36mFile \u001b[39m\u001b[32m~/IdeaProjects/books/doitllm/venv-doit-llm/lib/python3.12/site-packages/ipykernel/zmqshell.py:685\u001b[39m, in \u001b[36mZMQInteractiveShell.system_piped\u001b[39m\u001b[34m(self, cmd)\u001b[39m\n\u001b[32m    683\u001b[39m         \u001b[38;5;28mself\u001b[39m.user_ns[\u001b[33m\"\u001b[39m\u001b[33m_exit_code\u001b[39m\u001b[33m\"\u001b[39m] = system(cmd)\n\u001b[32m    684\u001b[39m \u001b[38;5;28;01melse\u001b[39;00m:\n\u001b[32m--> \u001b[39m\u001b[32m685\u001b[39m     \u001b[38;5;28mself\u001b[39m.user_ns[\u001b[33m\"\u001b[39m\u001b[33m_exit_code\u001b[39m\u001b[33m\"\u001b[39m] = \u001b[43msystem\u001b[49m\u001b[43m(\u001b[49m\u001b[38;5;28;43mself\u001b[39;49m\u001b[43m.\u001b[49m\u001b[43mvar_expand\u001b[49m\u001b[43m(\u001b[49m\u001b[43mcmd\u001b[49m\u001b[43m,\u001b[49m\u001b[43m \u001b[49m\u001b[43mdepth\u001b[49m\u001b[43m=\u001b[49m\u001b[32;43m1\u001b[39;49m\u001b[43m)\u001b[49m\u001b[43m)\u001b[49m\n",
      "\u001b[36mFile \u001b[39m\u001b[32m~/IdeaProjects/books/doitllm/venv-doit-llm/lib/python3.12/site-packages/IPython/utils/_process_posix.py:141\u001b[39m, in \u001b[36mProcessHandler.system\u001b[39m\u001b[34m(self, cmd)\u001b[39m\n\u001b[32m    136\u001b[39m         out_size = \u001b[38;5;28mlen\u001b[39m(child.before)\n\u001b[32m    137\u001b[39m \u001b[38;5;28;01mexcept\u001b[39;00m \u001b[38;5;167;01mKeyboardInterrupt\u001b[39;00m:\n\u001b[32m    138\u001b[39m     \u001b[38;5;66;03m# We need to send ^C to the process.  The ascii code for '^C' is 3\u001b[39;00m\n\u001b[32m    139\u001b[39m     \u001b[38;5;66;03m# (the character is known as ETX for 'End of Text', see\u001b[39;00m\n\u001b[32m    140\u001b[39m     \u001b[38;5;66;03m# curses.ascii.ETX).\u001b[39;00m\n\u001b[32m--> \u001b[39m\u001b[32m141\u001b[39m     \u001b[43mchild\u001b[49m.sendline(\u001b[38;5;28mchr\u001b[39m(\u001b[32m3\u001b[39m))\n\u001b[32m    142\u001b[39m     \u001b[38;5;66;03m# Read and print any more output the program might produce on its\u001b[39;00m\n\u001b[32m    143\u001b[39m     \u001b[38;5;66;03m# way out.\u001b[39;00m\n\u001b[32m    144\u001b[39m     \u001b[38;5;28;01mtry\u001b[39;00m:\n",
      "\u001b[31mUnboundLocalError\u001b[39m: cannot access local variable 'child' where it is not associated with a value"
     ]
    },
    {
     "name": "stdout",
     "output_type": "stream",
     "text": [
      "Note: you may need to restart the kernel to use updated packages.\n"
     ]
    },
    {
     "ename": "UnboundLocalError",
     "evalue": "cannot access local variable 'child' where it is not associated with a value",
     "output_type": "error",
     "traceback": [
      "\u001b[31m---------------------------------------------------------------------------\u001b[39m",
      "\u001b[31mKeyboardInterrupt\u001b[39m                         Traceback (most recent call last)",
      "\u001b[36mFile \u001b[39m\u001b[32m~/IdeaProjects/books/doitllm/venv-doit-llm/lib/python3.12/site-packages/IPython/utils/_process_posix.py:125\u001b[39m, in \u001b[36mProcessHandler.system\u001b[39m\u001b[34m(self, cmd)\u001b[39m\n\u001b[32m    124\u001b[39m \u001b[38;5;28;01melse\u001b[39;00m:\n\u001b[32m--> \u001b[39m\u001b[32m125\u001b[39m     child = \u001b[43mpexpect\u001b[49m\u001b[43m.\u001b[49m\u001b[43mspawn\u001b[49m\u001b[43m(\u001b[49m\u001b[38;5;28;43mself\u001b[39;49m\u001b[43m.\u001b[49m\u001b[43msh\u001b[49m\u001b[43m,\u001b[49m\u001b[43m \u001b[49m\u001b[43margs\u001b[49m\u001b[43m=\u001b[49m\u001b[43m[\u001b[49m\u001b[33;43m'\u001b[39;49m\u001b[33;43m-c\u001b[39;49m\u001b[33;43m'\u001b[39;49m\u001b[43m,\u001b[49m\u001b[43m \u001b[49m\u001b[43mcmd\u001b[49m\u001b[43m]\u001b[49m\u001b[43m)\u001b[49m  \u001b[38;5;66;03m# Vanilla Pexpect\u001b[39;00m\n\u001b[32m    126\u001b[39m flush = sys.stdout.flush\n",
      "\u001b[36mFile \u001b[39m\u001b[32m~/IdeaProjects/books/doitllm/venv-doit-llm/lib/python3.12/site-packages/pexpect/pty_spawn.py:205\u001b[39m, in \u001b[36mspawn.__init__\u001b[39m\u001b[34m(self, command, args, timeout, maxread, searchwindowsize, logfile, cwd, env, ignore_sighup, echo, preexec_fn, encoding, codec_errors, dimensions, use_poll)\u001b[39m\n\u001b[32m    204\u001b[39m \u001b[38;5;28;01melse\u001b[39;00m:\n\u001b[32m--> \u001b[39m\u001b[32m205\u001b[39m     \u001b[38;5;28;43mself\u001b[39;49m\u001b[43m.\u001b[49m\u001b[43m_spawn\u001b[49m\u001b[43m(\u001b[49m\u001b[43mcommand\u001b[49m\u001b[43m,\u001b[49m\u001b[43m \u001b[49m\u001b[43margs\u001b[49m\u001b[43m,\u001b[49m\u001b[43m \u001b[49m\u001b[43mpreexec_fn\u001b[49m\u001b[43m,\u001b[49m\u001b[43m \u001b[49m\u001b[43mdimensions\u001b[49m\u001b[43m)\u001b[49m\n\u001b[32m    206\u001b[39m \u001b[38;5;28mself\u001b[39m.use_poll = use_poll\n",
      "\u001b[36mFile \u001b[39m\u001b[32m~/IdeaProjects/books/doitllm/venv-doit-llm/lib/python3.12/site-packages/pexpect/pty_spawn.py:303\u001b[39m, in \u001b[36mspawn._spawn\u001b[39m\u001b[34m(self, command, args, preexec_fn, dimensions)\u001b[39m\n\u001b[32m    300\u001b[39m     \u001b[38;5;28mself\u001b[39m.args = [a \u001b[38;5;28;01mif\u001b[39;00m \u001b[38;5;28misinstance\u001b[39m(a, \u001b[38;5;28mbytes\u001b[39m) \u001b[38;5;28;01melse\u001b[39;00m a.encode(\u001b[38;5;28mself\u001b[39m.encoding)\n\u001b[32m    301\u001b[39m                  \u001b[38;5;28;01mfor\u001b[39;00m a \u001b[38;5;129;01min\u001b[39;00m \u001b[38;5;28mself\u001b[39m.args]\n\u001b[32m--> \u001b[39m\u001b[32m303\u001b[39m \u001b[38;5;28mself\u001b[39m.ptyproc = \u001b[38;5;28;43mself\u001b[39;49m\u001b[43m.\u001b[49m\u001b[43m_spawnpty\u001b[49m\u001b[43m(\u001b[49m\u001b[38;5;28;43mself\u001b[39;49m\u001b[43m.\u001b[49m\u001b[43margs\u001b[49m\u001b[43m,\u001b[49m\u001b[43m \u001b[49m\u001b[43menv\u001b[49m\u001b[43m=\u001b[49m\u001b[38;5;28;43mself\u001b[39;49m\u001b[43m.\u001b[49m\u001b[43menv\u001b[49m\u001b[43m,\u001b[49m\n\u001b[32m    304\u001b[39m \u001b[43m                             \u001b[49m\u001b[43mcwd\u001b[49m\u001b[43m=\u001b[49m\u001b[38;5;28;43mself\u001b[39;49m\u001b[43m.\u001b[49m\u001b[43mcwd\u001b[49m\u001b[43m,\u001b[49m\u001b[43m \u001b[49m\u001b[43m*\u001b[49m\u001b[43m*\u001b[49m\u001b[43mkwargs\u001b[49m\u001b[43m)\u001b[49m\n\u001b[32m    306\u001b[39m \u001b[38;5;28mself\u001b[39m.pid = \u001b[38;5;28mself\u001b[39m.ptyproc.pid\n",
      "\u001b[36mFile \u001b[39m\u001b[32m~/IdeaProjects/books/doitllm/venv-doit-llm/lib/python3.12/site-packages/pexpect/pty_spawn.py:315\u001b[39m, in \u001b[36mspawn._spawnpty\u001b[39m\u001b[34m(self, args, **kwargs)\u001b[39m\n\u001b[32m    314\u001b[39m \u001b[38;5;250m\u001b[39m\u001b[33;03m'''Spawn a pty and return an instance of PtyProcess.'''\u001b[39;00m\n\u001b[32m--> \u001b[39m\u001b[32m315\u001b[39m \u001b[38;5;28;01mreturn\u001b[39;00m \u001b[43mptyprocess\u001b[49m\u001b[43m.\u001b[49m\u001b[43mPtyProcess\u001b[49m\u001b[43m.\u001b[49m\u001b[43mspawn\u001b[49m\u001b[43m(\u001b[49m\u001b[43margs\u001b[49m\u001b[43m,\u001b[49m\u001b[43m \u001b[49m\u001b[43m*\u001b[49m\u001b[43m*\u001b[49m\u001b[43mkwargs\u001b[49m\u001b[43m)\u001b[49m\n",
      "\u001b[36mFile \u001b[39m\u001b[32m~/IdeaProjects/books/doitllm/venv-doit-llm/lib/python3.12/site-packages/ptyprocess/ptyprocess.py:289\u001b[39m, in \u001b[36mPtyProcess.spawn\u001b[39m\u001b[34m(cls, argv, cwd, env, echo, preexec_fn, dimensions, pass_fds)\u001b[39m\n\u001b[32m    288\u001b[39m \u001b[38;5;28;01mif\u001b[39;00m env \u001b[38;5;129;01mis\u001b[39;00m \u001b[38;5;28;01mNone\u001b[39;00m:\n\u001b[32m--> \u001b[39m\u001b[32m289\u001b[39m     \u001b[43mos\u001b[49m\u001b[43m.\u001b[49m\u001b[43mexecv\u001b[49m\u001b[43m(\u001b[49m\u001b[43mcommand\u001b[49m\u001b[43m,\u001b[49m\u001b[43m \u001b[49m\u001b[43margv\u001b[49m\u001b[43m)\u001b[49m\n\u001b[32m    290\u001b[39m \u001b[38;5;28;01melse\u001b[39;00m:\n",
      "\u001b[36mFile \u001b[39m\u001b[32m~/IdeaProjects/books/doitllm/venv-doit-llm/lib/python3.12/site-packages/debugpy/_vendored/pydevd/_pydev_bundle/pydev_monkey.py:743\u001b[39m, in \u001b[36mcreate_execv.<locals>.new_execv\u001b[39m\u001b[34m(path, args)\u001b[39m\n\u001b[32m    742\u001b[39m     send_process_created_message()\n\u001b[32m--> \u001b[39m\u001b[32m743\u001b[39m     \u001b[43msend_process_about_to_be_replaced\u001b[49m\u001b[43m(\u001b[49m\u001b[43m)\u001b[49m\n\u001b[32m    745\u001b[39m \u001b[38;5;28;01mreturn\u001b[39;00m \u001b[38;5;28mgetattr\u001b[39m(os, original_name)(path, args)\n",
      "\u001b[36mFile \u001b[39m\u001b[32m~/IdeaProjects/books/doitllm/venv-doit-llm/lib/python3.12/site-packages/debugpy/_vendored/pydevd/_pydev_bundle/pydev_monkey.py:985\u001b[39m, in \u001b[36msend_process_about_to_be_replaced\u001b[39m\u001b[34m()\u001b[39m\n\u001b[32m    984\u001b[39m \u001b[38;5;28;01mif\u001b[39;00m py_db \u001b[38;5;129;01mis\u001b[39;00m \u001b[38;5;129;01mnot\u001b[39;00m \u001b[38;5;28;01mNone\u001b[39;00m:\n\u001b[32m--> \u001b[39m\u001b[32m985\u001b[39m     \u001b[43mpy_db\u001b[49m\u001b[43m.\u001b[49m\u001b[43msend_process_about_to_be_replaced\u001b[49m\u001b[43m(\u001b[49m\u001b[43m)\u001b[49m\n",
      "\u001b[36mFile \u001b[39m\u001b[32m~/IdeaProjects/books/doitllm/venv-doit-llm/lib/python3.12/site-packages/debugpy/_vendored/pydevd/pydevd.py:2046\u001b[39m, in \u001b[36mPyDB.send_process_about_to_be_replaced\u001b[39m\u001b[34m(self)\u001b[39m\n\u001b[32m   2045\u001b[39m \u001b[38;5;28;01mwhile\u001b[39;00m \u001b[38;5;129;01mnot\u001b[39;00m sent[\u001b[32m0\u001b[39m]:\n\u001b[32m-> \u001b[39m\u001b[32m2046\u001b[39m     \u001b[43mtime\u001b[49m\u001b[43m.\u001b[49m\u001b[43msleep\u001b[49m\u001b[43m(\u001b[49m\u001b[32;43m0.05\u001b[39;49m\u001b[43m)\u001b[49m\n\u001b[32m   2048\u001b[39m     \u001b[38;5;28;01mif\u001b[39;00m (time.time() - initial_time) > timeout:\n",
      "\u001b[31mKeyboardInterrupt\u001b[39m: ",
      "\nDuring handling of the above exception, another exception occurred:\n",
      "\u001b[31mUnboundLocalError\u001b[39m                         Traceback (most recent call last)",
      "\u001b[36mCell\u001b[39m\u001b[36m \u001b[39m\u001b[32mIn[10]\u001b[39m\u001b[32m, line 3\u001b[39m\n\u001b[32m      1\u001b[39m get_ipython().run_line_magic(\u001b[33m'\u001b[39m\u001b[33mpip\u001b[39m\u001b[33m'\u001b[39m, \u001b[33m'\u001b[39m\u001b[33minstall -U duckduckgo-search\u001b[39m\u001b[33m'\u001b[39m)\n\u001b[32m      2\u001b[39m get_ipython().run_line_magic(\u001b[33m'\u001b[39m\u001b[33mpip\u001b[39m\u001b[33m'\u001b[39m, \u001b[33m'\u001b[39m\u001b[33minstall -U langchain-community\u001b[39m\u001b[33m'\u001b[39m)\n\u001b[32m----> \u001b[39m\u001b[32m3\u001b[39m \u001b[43mget_ipython\u001b[49m\u001b[43m(\u001b[49m\u001b[43m)\u001b[49m\u001b[43m.\u001b[49m\u001b[43mrun_line_magic\u001b[49m\u001b[43m(\u001b[49m\u001b[33;43m'\u001b[39;49m\u001b[33;43mpip\u001b[39;49m\u001b[33;43m'\u001b[39;49m\u001b[43m,\u001b[49m\u001b[43m \u001b[49m\u001b[33;43m'\u001b[39;49m\u001b[33;43minstall --upgrade pip\u001b[39;49m\u001b[33;43m'\u001b[39;49m\u001b[43m)\u001b[49m\n",
      "\u001b[36mFile \u001b[39m\u001b[32m~/IdeaProjects/books/doitllm/venv-doit-llm/lib/python3.12/site-packages/IPython/core/interactiveshell.py:2504\u001b[39m, in \u001b[36mInteractiveShell.run_line_magic\u001b[39m\u001b[34m(self, magic_name, line, _stack_depth)\u001b[39m\n\u001b[32m   2502\u001b[39m     kwargs[\u001b[33m'\u001b[39m\u001b[33mlocal_ns\u001b[39m\u001b[33m'\u001b[39m] = \u001b[38;5;28mself\u001b[39m.get_local_scope(stack_depth)\n\u001b[32m   2503\u001b[39m \u001b[38;5;28;01mwith\u001b[39;00m \u001b[38;5;28mself\u001b[39m.builtin_trap:\n\u001b[32m-> \u001b[39m\u001b[32m2504\u001b[39m     result = \u001b[43mfn\u001b[49m\u001b[43m(\u001b[49m\u001b[43m*\u001b[49m\u001b[43margs\u001b[49m\u001b[43m,\u001b[49m\u001b[43m \u001b[49m\u001b[43m*\u001b[49m\u001b[43m*\u001b[49m\u001b[43mkwargs\u001b[49m\u001b[43m)\u001b[49m\n\u001b[32m   2506\u001b[39m \u001b[38;5;66;03m# The code below prevents the output from being displayed\u001b[39;00m\n\u001b[32m   2507\u001b[39m \u001b[38;5;66;03m# when using magics with decorator @output_can_be_silenced\u001b[39;00m\n\u001b[32m   2508\u001b[39m \u001b[38;5;66;03m# when the last Python token in the expression is a ';'.\u001b[39;00m\n\u001b[32m   2509\u001b[39m \u001b[38;5;28;01mif\u001b[39;00m \u001b[38;5;28mgetattr\u001b[39m(fn, magic.MAGIC_OUTPUT_CAN_BE_SILENCED, \u001b[38;5;28;01mFalse\u001b[39;00m):\n",
      "\u001b[36mFile \u001b[39m\u001b[32m~/IdeaProjects/books/doitllm/venv-doit-llm/lib/python3.12/site-packages/IPython/core/magics/packaging.py:105\u001b[39m, in \u001b[36mPackagingMagics.pip\u001b[39m\u001b[34m(self, line)\u001b[39m\n\u001b[32m    102\u001b[39m \u001b[38;5;28;01melse\u001b[39;00m:\n\u001b[32m    103\u001b[39m     python = shlex.quote(python)\n\u001b[32m--> \u001b[39m\u001b[32m105\u001b[39m \u001b[38;5;28;43mself\u001b[39;49m\u001b[43m.\u001b[49m\u001b[43mshell\u001b[49m\u001b[43m.\u001b[49m\u001b[43msystem\u001b[49m\u001b[43m(\u001b[49m\u001b[33;43m\"\u001b[39;49m\u001b[33;43m \u001b[39;49m\u001b[33;43m\"\u001b[39;49m\u001b[43m.\u001b[49m\u001b[43mjoin\u001b[49m\u001b[43m(\u001b[49m\u001b[43m[\u001b[49m\u001b[43mpython\u001b[49m\u001b[43m,\u001b[49m\u001b[43m \u001b[49m\u001b[33;43m\"\u001b[39;49m\u001b[33;43m-m\u001b[39;49m\u001b[33;43m\"\u001b[39;49m\u001b[43m,\u001b[49m\u001b[43m \u001b[49m\u001b[33;43m\"\u001b[39;49m\u001b[33;43mpip\u001b[39;49m\u001b[33;43m\"\u001b[39;49m\u001b[43m,\u001b[49m\u001b[43m \u001b[49m\u001b[43mline\u001b[49m\u001b[43m]\u001b[49m\u001b[43m)\u001b[49m\u001b[43m)\u001b[49m\n\u001b[32m    107\u001b[39m \u001b[38;5;28mprint\u001b[39m(\u001b[33m\"\u001b[39m\u001b[33mNote: you may need to restart the kernel to use updated packages.\u001b[39m\u001b[33m\"\u001b[39m)\n",
      "\u001b[36mFile \u001b[39m\u001b[32m~/IdeaProjects/books/doitllm/venv-doit-llm/lib/python3.12/site-packages/ipykernel/zmqshell.py:685\u001b[39m, in \u001b[36mZMQInteractiveShell.system_piped\u001b[39m\u001b[34m(self, cmd)\u001b[39m\n\u001b[32m    683\u001b[39m         \u001b[38;5;28mself\u001b[39m.user_ns[\u001b[33m\"\u001b[39m\u001b[33m_exit_code\u001b[39m\u001b[33m\"\u001b[39m] = system(cmd)\n\u001b[32m    684\u001b[39m \u001b[38;5;28;01melse\u001b[39;00m:\n\u001b[32m--> \u001b[39m\u001b[32m685\u001b[39m     \u001b[38;5;28mself\u001b[39m.user_ns[\u001b[33m\"\u001b[39m\u001b[33m_exit_code\u001b[39m\u001b[33m\"\u001b[39m] = \u001b[43msystem\u001b[49m\u001b[43m(\u001b[49m\u001b[38;5;28;43mself\u001b[39;49m\u001b[43m.\u001b[49m\u001b[43mvar_expand\u001b[49m\u001b[43m(\u001b[49m\u001b[43mcmd\u001b[49m\u001b[43m,\u001b[49m\u001b[43m \u001b[49m\u001b[43mdepth\u001b[49m\u001b[43m=\u001b[49m\u001b[32;43m1\u001b[39;49m\u001b[43m)\u001b[49m\u001b[43m)\u001b[49m\n",
      "\u001b[36mFile \u001b[39m\u001b[32m~/IdeaProjects/books/doitllm/venv-doit-llm/lib/python3.12/site-packages/IPython/utils/_process_posix.py:141\u001b[39m, in \u001b[36mProcessHandler.system\u001b[39m\u001b[34m(self, cmd)\u001b[39m\n\u001b[32m    136\u001b[39m         out_size = \u001b[38;5;28mlen\u001b[39m(child.before)\n\u001b[32m    137\u001b[39m \u001b[38;5;28;01mexcept\u001b[39;00m \u001b[38;5;167;01mKeyboardInterrupt\u001b[39;00m:\n\u001b[32m    138\u001b[39m     \u001b[38;5;66;03m# We need to send ^C to the process.  The ascii code for '^C' is 3\u001b[39;00m\n\u001b[32m    139\u001b[39m     \u001b[38;5;66;03m# (the character is known as ETX for 'End of Text', see\u001b[39;00m\n\u001b[32m    140\u001b[39m     \u001b[38;5;66;03m# curses.ascii.ETX).\u001b[39;00m\n\u001b[32m--> \u001b[39m\u001b[32m141\u001b[39m     \u001b[43mchild\u001b[49m.sendline(\u001b[38;5;28mchr\u001b[39m(\u001b[32m3\u001b[39m))\n\u001b[32m    142\u001b[39m     \u001b[38;5;66;03m# Read and print any more output the program might produce on its\u001b[39;00m\n\u001b[32m    143\u001b[39m     \u001b[38;5;66;03m# way out.\u001b[39;00m\n\u001b[32m    144\u001b[39m     \u001b[38;5;28;01mtry\u001b[39;00m:\n",
      "\u001b[31mUnboundLocalError\u001b[39m: cannot access local variable 'child' where it is not associated with a value"
     ]
    }
   ],
   "source": [
    "%pip install -U duckduckgo-search\n",
    "%pip install -U langchain-community\n",
    "%pip install --upgrade pip"
   ]
  },
  {
   "cell_type": "code",
   "execution_count": 1,
   "id": "4a4a84d7",
   "metadata": {},
   "outputs": [
    {
     "name": "stdout",
     "output_type": "stream",
     "text": [
      "snippet: May 1, 2025 - 〈에잇〉 은 2020년 5월 6일에 발매된 대한민국의 가수 아이유의 디지털 싱글이다. 대한민국의 보이 그룹 방탄소년단의 일원인 슈가가 프로듀싱과 피처링을 맡았다., title: Wikipedia 에잇 (아이유의 노래) - 위키백과, 우리 모두의 ..., link: https://ko.wikipedia.org/wiki/에잇_(아이유의_노래);\n",
      "snippet: 1 day ago - Ive (Korean: 아이브 ; RR: Aibeu; stylized in all caps) is a South Korean girl group formed by Starship Entertainment. The group is composed of six members: Gaeul, An Yu-jin, Rei, Jang Won-young, Liz, and Leeseo. Ive is known for their viral songs and for achieving one of the most successful ..., title: Wikipedia Ive (group) - Wikipedia, link: https://en.wikipedia.org/wiki/Ive_(group);\n",
      "snippet: Feb 4, 2025 · 아이 브 는 3일 세 번째 미니앨범 ‘아이브 엠파시’를 공개했다. 아이 브 는 ‘아이브 엠파시’에서 자기애, 자기 확신이란 키워드로 대표되는 팀의 정체성을 유지하면서도 ‘나’에서 ‘우리’로 시야를 확장해 공감의 이야기를 들려준다., title: “우리의 공감 이야기 담았어요”… 9개월 만에 돌아온 아이브, link: https://www.kmib.co.kr/article/view.asp?arcid=1738571101;\n",
      "snippet: Jan 22, 2025 · 아이 브 는 오는 2월 3일 신보 '아이브 엠파시'를 발매하고 컴백한다., title: 아이브, 신곡 ‘레블 하트’로 본격 정주행 시작..韓·中·日 차트 접수 ‘..., link: https://breaknews.com/1087204\n"
     ]
    }
   ],
   "source": [
    "from langchain_community.tools import DuckDuckGoSearchResults\n",
    "\n",
    "search = DuckDuckGoSearchResults(results_separator=\";\\n\")\n",
    "docs = search.invoke(\"최근에 발매된 아이브 노래가 뭐야?\")\n",
    "\n",
    "print(docs)"
   ]
  },
  {
   "cell_type": "code",
   "execution_count": null,
   "id": "34422843",
   "metadata": {},
   "outputs": [],
   "source": [
    "# 현재 Python 환경 확인\n",
    "import sys\n",
    "print(\"Python executable:\", sys.executable)\n",
    "print(\"Python version:\", sys.version)\n",
    "\n",
    "# ddgs 설치 확인\n",
    "try:\n",
    "    import ddgs\n",
    "    print(\"✅ ddgs 패키지 설치됨\")\n",
    "    print(\"ddgs version:\", ddgs.__version__ if hasattr(ddgs, '__version__') else 'version unknown')\n",
    "except ImportError as e:\n",
    "    print(\"❌ ddgs 패키지 없음:\", e)\n"
   ]
  },
  {
   "cell_type": "code",
   "execution_count": 3,
   "id": "c34c93e9",
   "metadata": {},
   "outputs": [],
   "source": [
    "# OpenAI 모델 설정\n",
    "from langchain_openai import ChatOpenAI\n",
    "import os\n",
    "from dotenv import load_dotenv\n",
    "\n",
    "load_dotenv()\n",
    "api_key = os.getenv('OPENAI_API_KEY')\n",
    "os.environ['OPENAI_API_KEY'] = api_key\n",
    "\n",
    "model = ChatOpenAI(model=\"gpt-4o-mini\")\n"
   ]
  },
  {
   "cell_type": "code",
   "execution_count": 5,
   "id": "ed188037",
   "metadata": {},
   "outputs": [],
   "source": [
    "from langchain_core.prompts import ChatPromptTemplate, MessagesPlaceholder\n",
    "\n",
    "question_answering_prompt = ChatPromptTemplate.from_messages([\n",
    "    (\"system\", \"아래 context 에 기반해 사용자 질문에 답변해. :\\n\\n{context}\"),\n",
    "    MessagesPlaceholder(variable_name=\"messages\"),\n",
    "])\n",
    "\n",
    "document_chain = question_answering_prompt | model"
   ]
  },
  {
   "cell_type": "code",
   "execution_count": 6,
   "id": "ec64c9c4",
   "metadata": {},
   "outputs": [
    {
     "name": "stdout",
     "output_type": "stream",
     "text": [
      "content=\"아이브는 최근에 2025년 2월 3일에 '아이브 엠파시'라는 세 번째 미니앨범을 발매했습니다. 이 앨범의 주제를 자기애와 자기 확신으로 설정하여, 개인의 시야를 확장해 공감의 이야기를 담고 있다고 알려져 있습니다.\" additional_kwargs={'refusal': None} response_metadata={'token_usage': {'completion_tokens': 73, 'prompt_tokens': 480, 'total_tokens': 553, 'completion_tokens_details': {'accepted_prediction_tokens': 0, 'audio_tokens': 0, 'reasoning_tokens': 0, 'rejected_prediction_tokens': 0}, 'prompt_tokens_details': {'audio_tokens': 0, 'cached_tokens': 0}}, 'model_name': 'gpt-4o-mini-2024-07-18', 'system_fingerprint': 'fp_51db84afab', 'id': 'chatcmpl-C9BUh5DsQDNDAv04SbeL4KWX0wOJD', 'service_tier': 'default', 'finish_reason': 'stop', 'logprobs': None} id='run--7ccf3e57-196c-4591-9e73-5b20e55b1f5b-0' usage_metadata={'input_tokens': 480, 'output_tokens': 73, 'total_tokens': 553, 'input_token_details': {'audio': 0, 'cache_read': 0}, 'output_token_details': {'audio': 0, 'reasoning': 0}}\n"
     ]
    }
   ],
   "source": [
    "from langchain.memory import ChatMessageHistory\n",
    "\n",
    "chat_history = ChatMessageHistory()\n",
    "chat_history.add_user_message(\"최근에 발매된 아이브 노래가 뭐야?\")\n",
    "\n",
    "answer = document_chain.invoke(\n",
    "  {\n",
    "    \"messages\": chat_history.messages,\n",
    "    \"context\": docs,\n",
    "  }\n",
    ")\n",
    "\n",
    "chat_history.add_ai_message(answer)\n",
    "\n",
    "print(answer)"
   ]
  },
  {
   "cell_type": "code",
   "execution_count": 8,
   "id": "a04d42b4",
   "metadata": {},
   "outputs": [],
   "source": [
    "from langchain_community.utilities import DuckDuckGoSearchAPIWrapper\n",
    "\n",
    "wrapper = DuckDuckGoSearchAPIWrapper(region=\"kr-ko\", time=\"w\")"
   ]
  },
  {
   "cell_type": "code",
   "execution_count": 9,
   "id": "8e350fc0",
   "metadata": {},
   "outputs": [],
   "source": [
    "search = DuckDuckGoSearchResults(\n",
    "  api_wrapper = wrapper,\n",
    "  source = \"news\",\n",
    "  results_separator=';\\n'\n",
    ")"
   ]
  },
  {
   "cell_type": "code",
   "execution_count": 10,
   "id": "782bdbf4",
   "metadata": {},
   "outputs": [
    {
     "name": "stdout",
     "output_type": "stream",
     "text": [
      "snippet: 15시간 전 — 아이브 \"다이브에게 항상 감사… 신곡 ' XOXZ '도 기대해 주세요\" [인터뷰] ... [티브이데일리 김진석 기자] 그룹 아이브 가 팬덤 다이브 에 대한 사랑을 드러냈다. 아이브 (안유진 ..., title: 아이브 \"다이브에게 항상 감사…신곡 'XOXZ'도 기대해 ..., link: https://news.nate.com/view/20250827n06590;\n",
      "snippet: 15시간 전 — 이어 아이브 는 팬들과의 추억 에 대해서도 털어놨다. 안유진은 \"최근 에 해외 공연을 다녀왔는데, 팬분들의 응원과 함성 소리를 듣고 와서 그때가 정말 기억 에 남는 것 같다\" ..., title: 아이브 \"다이브에게 항상 감사… 신곡 'XOXZ'도 기대해 ..., link: https://v.daum.net/v/20250827090338326;\n",
      "snippet: 1일 전 — 신곡 ' XOXZ '의 뜻 에 관해 존박은 \"키스 앤 허그를 뜻하는 'XO'와 알파벳 마지막 글자 'Z'가 더해져 '처음부터 끝까지 너를 원한다'는 의미일 것 같다\"고 해석했다. 가을은 ..., title: 아이브 가을, 존박과 신곡 'XOXZ' 뜻풀이 나서며 케미스트리 ..., link: https://www.cbci.co.kr/news/articleView.html?idxno=513017;\n",
      "snippet: 1일 전 — ' XOXZ '는 26일 오후 2시 기준 멜론 메인 차트인 TOP100에서 25위를 차지했다. 발매 직후인 지난 25일 오후 7시 차트 에 32위로 진입한 ' XOXZ '는 전작인 'REBEL HEART'(레벨 ..., title: 아이브 'XOXZ'=아름다운 공갈빵…유행 잡고 개성 버렸다 ..., link: https://v.daum.net/v/20250826153738578?f=p\n"
     ]
    }
   ],
   "source": [
    "docs = search.invoke(\"아이브 신곡 XOXZ 에 대한 반응\")\n",
    "\n",
    "print(docs)"
   ]
  },
  {
   "cell_type": "code",
   "execution_count": 12,
   "id": "6f63339a",
   "metadata": {},
   "outputs": [
    {
     "data": {
      "text/plain": [
       "\"snippet: 2 days ago · 안녕하세요. 이야기가 있는 음악세상!!! 이.음.세의 Old Spice 입니다. 이번에는 아이브의 세 번째 EP ..., title: 아이브 - XOXZ 뜻 뮤비 듣기 가사 파트 IVE SECRET 앨범리뷰 1 : 네이..., link: https://blog.naver.com/tgking76/223983002489;\\nsnippet: 6 days ago · 아이브 (IVE), 미니 4집 발매와 함께 팬들과의 실시간 고민 상담 이벤트 예고 열기가 스며든 오후, 커튼 ..., title: “베리즈 전 세계 팬과 소통”…아이브 (IVE), ‘아이브 시크릿’ 컴백 라..., link: https://blog.naver.com/nannany000/223978383837;\\nsnippet: 5 days ago · 이웃 블로거 ^ ETC 21,699개의 글 목록열기, title: [티저/Teaser] IVE(아이브) - XOXZ - 네이버 블로그, link: https://blog.naver.com/mmrmorning/223980084748;\\nsnippet: 5일 전 — ㆍ 아이브 신곡 ' XOXZ ' 발매 (카카오엔터). ㆍ네이버웹툰 '컷츠' 출시(네이버웹툰) ... 에 대한 관심이 높아질 것을 예상할 수 있습니다. 관련 테마 및 기업: 이차 ..., title: 전체공개)주간 증시 일정(8/25~8/29), link: https://contents.premium.naver.com/0301/gadonet/contents/250823100532502vv\""
      ]
     },
     "execution_count": 12,
     "metadata": {},
     "output_type": "execute_result"
    }
   ],
   "source": [
    "docs = search.invoke(\"site:naver.com 아이브 신곡 XOXZ 에 대한 분석\")\n",
    "\n",
    "docs"
   ]
  },
  {
   "cell_type": "code",
   "execution_count": 15,
   "id": "b9fd23ce",
   "metadata": {},
   "outputs": [
    {
     "name": "stdout",
     "output_type": "stream",
     "text": [
      "snippet: 2 days ago · 안녕하세요. 이야기가 있는 음악세상!!! 이.음.세의 Old Spice 입니다. 이번에는 아이브의 세 번째 EP ..., title: 아이브 - XOXZ 뜻 뮤비 듣기 가사 파트 IVE SECRET 앨범리뷰 1 : 네이..., link: https://blog.naver.com/tgking76/223983002489\n",
      "snippet: 6 days ago · 아이브 (IVE), 미니 4집 발매와 함께 팬들과의 실시간 고민 상담 이벤트 예고 열기가 스며든 오후, 커튼 ..., title: “베리즈 전 세계 팬과 소통”…아이브 (IVE), ‘아이브 시크릿’ 컴백 라..., link: https://blog.naver.com/nannany000/223978383837\n",
      "snippet: 5 days ago · 이웃 블로거 ^ ETC 21,699개의 글 목록열기, title: [티저/Teaser] IVE(아이브) - XOXZ - 네이버 블로그, link: https://blog.naver.com/mmrmorning/223980084748\n",
      "snippet: 5일 전 — ㆍ 아이브 신곡 ' XOXZ ' 발매 (카카오엔터). ㆍ네이버웹툰 '컷츠' 출시(네이버웹툰) ... 에 대한 관심이 높아질 것을 예상할 수 있습니다. 관련 테마 및 기업: 이차 ..., title: 전체공개)주간 증시 일정(8/25~8/29), link: https://contents.premium.naver.com/0301/gadonet/contents/250823100532502vv\n",
      "['https://blog.naver.com/tgking76/223983002489', 'https://blog.naver.com/nannany000/223978383837', 'https://blog.naver.com/mmrmorning/223980084748', 'https://contents.premium.naver.com/0301/gadonet/contents/250823100532502vv']\n"
     ]
    }
   ],
   "source": [
    "links = []\n",
    "\n",
    "for doc in docs.split(\";\\n\"):\n",
    "  print(doc)\n",
    "  link = doc.split(\"link: \")[1].strip()\n",
    "  links.append(link)\n",
    "  \n",
    "print(links)"
   ]
  },
  {
   "cell_type": "code",
   "execution_count": 16,
   "id": "fd612a04",
   "metadata": {},
   "outputs": [
    {
     "name": "stderr",
     "output_type": "stream",
     "text": [
      "Fetching pages: 100%|##########| 4/4 [00:00<00:00, 13.53it/s]"
     ]
    },
    {
     "name": "stdout",
     "output_type": "stream",
     "text": [
      "page_content='Old Spice 이음세 (이야기가 있는 음악세상) : 네이버 블로그' metadata={'source': 'https://blog.naver.com/tgking76/223983002489', 'title': 'Old Spice 이음세 (이야기가 있는 음악세상) : 네이버 블로그', 'language': 'ko'}\n",
      "---------------------------\n",
      "page_content='엔터(ENT)키를 눌러라 : 네이버 블로그' metadata={'source': 'https://blog.naver.com/nannany000/223978383837', 'title': '엔터(ENT)키를 눌러라 : 네이버 블로그', 'language': 'ko'}\n",
      "---------------------------\n",
      "page_content='アイノきつねの公式ブログ : 네이버 블로그' metadata={'source': 'https://blog.naver.com/mmrmorning/223980084748', 'title': 'アイノきつねの公式ブログ : 네이버 블로그', 'language': 'ko'}\n",
      "---------------------------\n",
      "page_content='전체공개)주간 증시 일정(8/25~8/29)본문 바로가기페이지 스크롤 진행률Premium Contents이전 페이지가도넷검색로그인전체공개)주간 증시 일정(8/25~8/29)2025.08.23. 오전 10:05by김광만좋아요댓글SNS 보내기글씨 크기 조정더 작게가더 크게​​━━━━━━━━━━━━━━━━━━━━━📅 8월 25일(월)━━━━━━━━━━━━━━━━━━━━━ㆍ英 증시 휴장ㆍ그래피 신규 상장(3D프린팅 교정장치)ㆍ韓-美 정상회담 (반도체·배터리·조선·LNG·원전)ㆍ美 7월 신규주택매매ㆍ상법 2차 개정안 통과 전망(지주사·은행·증권)ㆍ민주당, 자사주 소각 토론 (삼성전자·메리츠금융 등)ㆍ아이브 신곡 ‘XOXZ’ 발매 (카카오엔터)ㆍ네이버웹툰 ‘컷츠’ 출시(네이버웹툰)ㆍ컬리, 美 역직구몰 공식 오픈(컬리)ㆍ中 특사단 방중(24~27일)(뷰티·카지노·여행·엔터)ㆍ美 PDD홀딩스 실적 발표​━━━━━━━━━━━━━━━━━━━━━📅 8월 26일(화)━━━━━━━━━━━━━━━━━━━━━ㆍMSCI 지수 리밸런싱 (두산·효성중공업·LIG넥스원)​​​​​https://contents.premium.naver.com/0301/qkqk4877/contents/250823100133060ta전체 공개) 주간 증시일정(8/25~8/29)📅 8월 25일(월) ━━━━━━━━━━━━━━━━━━━━━ ㆍ英 증시 휴장 ㆍ그래피 신규 상장(3D프린팅 교정장치) ㆍ韓-美 정상회담 (반도체·배터리·조선·LNG·원전) ㆍ美 7월 신규주택매매 ㆍ상법 2차 개정안 통과 전망(지주사·은행·증권) ㆍ민주당, 자사주 소각contents.premium.naver.com​해당 콘텐츠는 프리미엄 구독자 공개(유료) 콘텐츠로 무단 캡쳐 및 불법 공유시 법적 제재를 받을 수 있습니다.본 콘텐츠는 무료로 제공중입니다.콘텐츠가 마음에 드셨나요?가도넷  구독으로 더 많은 콘텐츠를 만나보세요!프리미엄 구독3,900원/월김광만선택과 집중 [증시일정 / 테마/뉴스 ]現)아르고스인베스트먼트 대표(유사투자자문업)사업자번호 521-76-00439#주간증시일정#증시일정#주식일정#8월마지막주증시일정#증시캘린더좋아요댓글공유하기가도넷채널에서 무료 제공하는 콘텐츠가 있습니다.지금 로그인하면 무료로 볼 수 있습니다.로그인닫기가도넷이 채널의 콘텐츠가 마음에 드셨나요?채널을 구독하고 창작자의 콘텐츠를 응원해 주세요!재테크평균 주9회 신규 업데이트닫기무료 콘텐츠 모아보기전체공개)주간 증시 일정(8/25~8/29)2025.08.23.이번주 VIP 종목 성과(8/18~8/20)2025.08.20.8월 3주차 증시 일정(18~24)2025.08.17.이번주 코스닥 신규 상장 기업 (8/18~8/21)2025.08.17.다른 채널의 무료 콘텐츠 더보기많이 본 콘텐츠안내전주 월요일 00시부터 일요일 24시까지 집계한 결과입니다.닫기주간18월 18일(월요일) 장전 원픽테마 이슈삼성전자, 양자컴도 못 뚫는 보안칩 업계 첫 양산 기사 출처: https://n.news.naver.com/article/018/0006091980 선정 이유: 양자 컴퓨팅 시대에 대비한 보안 기술의 중요성을 강조하는 기사로, 삼성전자가 업계 최초로 관련 보안 칩을 양산했다는 점이 핵심적인 기술 발전과 시장 선점을 시사합니다. 관련 테마 및 기업: 양자컴퓨터 및 보안: 아이씨티케이, 에이엘티, 라닉스, 엑스게이트 “전동스쿠터 배터리 충전중 폭발”… 마포 아파트 화재, 母子 숨져 기사 출처: https://n.news.naver.com/article/020/0003654692 선정 이유: 전동 모빌리티의 확산과 함께 배터리 안전 문제가 사회적 이슈로 부각됨에 따라, 배터리 관련 기술 및 안전 솔루션에 대한 관심이 높아질 것을 예상할 수 있습니다. 관련 테마 및 기업: 이차전지 및 배터리: KBG, 신흥에스이씨, 나인테크, 신진에스엠, 나노팀,2025.08.18.28월 21일(목요일) 장전 원픽테마 이슈🇰🇷 이 대통령, 21일 빌 게이츠 접견…글로벌 보건 협력 논의할 듯 출처: https://news.nate.com/view/20250820n36112?mid=n0309 선정 이유: 한국 대통령과 빌 게이츠의 만남으로 글로벌 보건 및 바이오 관련 이슈가 부각될 가능성이 높아 관련 기업에 대한 관심이 커질 수 있다. 관련 테마 및 기업: 보건, 바이오, 의약품 / SK바이오사이언스, LG화학, 에스디바이오센서, 유바이오로직스 🍜 \"후루룩\" 케이팝데몬헌터스 속 그 라면, 진짜 나온다고? 출처: https://news.nate.com/view/20250820n32464?mid=n0301 선정 이유: 인기 콘텐츠 속 제품이 실제 출시되면서 관련 기업의 브랜드 인지도 상승 및 매출 증대 효과를 기대할 수 있다. 관련 테마 및 기업: 식품, 콘텐츠 연계 상품 / 농심 🌿 15조 '의료용 대마' 열린다…'씨티씨·인벤티지' 잰걸음 [바이탈] 출처: https://news.nate.com/view/20250820n31324?mid=n03012025.08.21.38월 22일(금요일) 장전 원픽테마 이국회 통과 앞둔 토큰증권…370조 시장 선점 놓고 증권사들 '각축전' 출처: https://news.nate.com/view/20250821n34134?mid=n0301 선정 이유: 토큰증권 관련 법안이 국회 통과를 앞두고 있으며, 이는 금융 시장에 큰 변화를 가져올 수 있는 중요한 이슈입니다. 관련 기업들의 경쟁 상황을 파악하는 데 유용한 정보입니다. 관련 테마 및 기업: 토큰증권: 우리기술투자, 핵토파이낸셜, 한국정보인증, 한화투자증권, 아이티아이즈, 갤럭시아에스엠, 아톤 \"스테이블코인, 자본통제·통화주권 위협…CBDC가 대안\" 출처: https://news.nate.com/view/20250821n34642?mid=n0301 선정 이유: 스테이블코인이 금융 시스템에 미치는 영향과 이에 대한 각국의 대응 방안으로 부각되는 CBDC(중앙은행 디지털화폐)에 대한 논의는 디지털 금융의 미래를 이해하는 데 필수적입니다. 관련 테마 및 기업: CBDC (중앙은2025.08.22.4뉴욕증시 파월 연설 앞두고 기술주 매도세...기술주 하락에 나스닥 1.46% 하락▶ 시장 2025년 8월 19일 뉴욕 증시는 기술주와 반도체주 약세로 인해 전반적인 혼조세를 보였습니다. 미국 정부의 보조금 정책 변화 가능성, OpenAI CEO의 'AI 거품론' 발언, 그리고 중국의 자국산 반도체 사용 의무화 정책 등이 복합적으로 작용한 결과로 분석됩니다. 주요 지수 중 다우존스30 산업평균지수는 소폭 상승 마감한 반면, S&P 500 지수와 나스닥 종합지수, 필라델피아 반도체 지수는 하락했습니다. ▶ 지수별 마감 현황 ▶ 주요 종목 등락률 ▶ 시장 하방 압력 요인 정부 보조금의 지분 투자 전환 가능성: 하워드 러트닉 미국 상무부 장관이 반도체 지원법(칩스법)에 따른 보조금이 향후 지분 투자로 전환될 수 있다고 언급하며 기술주 투자 심리가 위축되었습니다. OpenAI CEO 'AI 거품론' 발언: 샘 올트먼 OpenAI CEO가 AI 산업에 거품이 꼈다는 우려를 표명하며2025.08.20.58-19(화)장전 원픽테마뉴욕증시는 러·우 협상과 잭슨홀 심포지엄을 앞둔 관망세 속에 혼조 마감했습니다. 미국이 철강·알루미늄 관세를 냉장고, 변압기, 트랙터, 화장품 용기까지 확대하며  산업 전반 부담 우려가 커졌습니다. 메타·인텔은 약세, 태양광주는 세제 혜택 기대감에 강세를 보였습니다. 오늘 국내 증시는 글로벌 관세 부담과 이벤트 대기 심리로 관망세가 이어질 가능성이 크며, 지수 대형주보다는 개별 테마 중심 흐름이 예상됩니다. 따라서 비중 확대보다 리스크 관리에 초점을 두는 전략이 바람직합니다. 삼성重, 2조1000억 LNG운반선 6척 수주 https://news.nate.com/view/20250818n31189?mid=n0301 테마: 조선·LNG선 종목: 삼성중공업 ━━━━━━━━━━━━━━━━━━━━ '인기몰이' 하이브리드차 美생산 늘려···관세 충격서 '수익 방어' https://news.nate.com/view/20250818n31403?m2025.08.19.전체콘텐츠8월 27일(수요일) 장전 원픽테마 이2025.08.27.좋아요댓글뉴욕증시 엔비디아 호실적 기대 일제히 상승 마감2025.08.27.좋아요댓글8월 26일(화요일) 장전 원픽테마 이2025.08.26.좋아요댓글뉴욕증시 금리인하 불확실성 일제히 하락2025.08.26.좋아요댓글8월 25일(월요일) 장전 원픽테마 이슈2025.08.25.좋아요댓글함께 볼만한 프리미엄영상이 터진 이유에 대하여내성적 디지털 노마드KOSDAQ 케이엔제이 창업자의 富의 인생모두를 위한 경영학#97. 소상공인 정부지원금 왜 나만!!(... 음?)[신청방법부터 검증 중 해결 방법 총정리]꼬미왕의 머니가 머니[정책메모] 스포츠산업 진흥지방정책트렌드구독이 망설여진다면창작자가 추천하는 무료 콘텐츠를 더 확인해 보세요!이번주 VIP 종목 성과(8/18~8/20)2025.08.20.좋아요댓글8월 3주차 증시 일정(18~24)2025.08.17.좋아요댓글이번주 코스닥 신규 상장 기업 (8/18~8/21)2025.08.17.좋아요댓글바로 구독하러 가기닫기맨위로로그인전체서비스사업자정보확인개인정보처리방침네이버 이용약관네이버 운영정책프리미엄콘텐츠 판매회원 이용약관프리미엄콘텐츠 운영정책법적고지고객센터네이버(주)는 통신판매중개시스템의 제공자로서 통신판매의 당사자가 아닙니다. 콘텐츠판매, 환불 등과 관련한 의무와 책임은 판매자에게 있습니다.Premium Contentsⓒ NAVER Corp.' metadata={'source': 'https://contents.premium.naver.com/0301/gadonet/contents/250823100532502vv', 'title': '전체공개)주간 증시 일정(8/25~8/29)', 'description': '━━━━━━━━━━━━━━━━━━━━━ 📅 8월 25일(월) ━━━━━━━━━━━━━━━━━━━━━ ㆍ英 증시 휴장 ㆍ그래피 신규 상장(3D프린팅 교정장치) ㆍ韓-美 정상회담 (반도체·배터리·조선·LNG·원전) ㆍ美 7월 신규주택매매 ㆍ상법 2차 개정안 통과 전망(지', 'language': 'ko'}\n",
      "---------------------------\n"
     ]
    },
    {
     "name": "stderr",
     "output_type": "stream",
     "text": [
      "\n"
     ]
    }
   ],
   "source": [
    "from langchain_community.document_loaders import WebBaseLoader\n",
    "\n",
    "loader = WebBaseLoader(\n",
    "  web_paths = links,\n",
    "  bs_get_text_kwargs = {\n",
    "    \"strip\": True,\n",
    "  }\n",
    ")\n",
    "\n",
    "page_contents = []\n",
    "\n",
    "async for doc in loader.alazy_load():\n",
    "  page_contents.append(doc)\n",
    "\n",
    "for content in page_contents:\n",
    "  print(content)\n",
    "  print(\"---------------------------\")"
   ]
  },
  {
   "cell_type": "code",
   "execution_count": null,
   "id": "5fbc1a5d",
   "metadata": {},
   "outputs": [],
   "source": [
    "import requests\n",
    "from bs4 import BeautifulSoup\n",
    "\n",
    "def get_article_text(url):\n",
    "  try:\n",
    "    response = requests.get(url)\n",
    "    response.raise_for_status()\n",
    "    soup = BeautifulSoup(response.content, \"html.parser\")\n",
    "    article = soup.find(\"article\", class_=\"se-main-container\")\n",
    "    if article:\n",
    "      return article.get_text()\n",
    "    else:\n",
    "      try:\n",
    "        if soup.find(\"article\"):\n",
    "          return soup.find(\"article\").get_text(strip = True)\n",
    "        else:\n",
    "          return soup.find(\"div\", id = \"printPost1\").get_text(strip = True)\n",
    "      except:\n",
    "        return \"No article found\"\n",
    "  \n",
    "  except requests.exceptions.RequestException as e:\n",
    "    return f\"Error fetching article: {e}\""
   ]
  },
  {
   "cell_type": "code",
   "execution_count": null,
   "id": "7239b3d6",
   "metadata": {},
   "outputs": [],
   "source": [
    "articles = []\n",
    "\n",
    "for link in links:\n",
    "  print(f\"URL: {link}\\n\")\n",
    "  article_text = get_article_text(link)\n",
    "  \n",
    "  print(f\"Content: \\n{article_text}\\n\")\n",
    "  print(\"--------------------------------\")\n",
    "  \n",
    "  articles.append(article_text)"
   ]
  }
 ],
 "metadata": {
  "kernelspec": {
   "display_name": "venv-doit-llm",
   "language": "python",
   "name": "python3"
  },
  "language_info": {
   "codemirror_mode": {
    "name": "ipython",
    "version": 3
   },
   "file_extension": ".py",
   "mimetype": "text/x-python",
   "name": "python",
   "nbconvert_exporter": "python",
   "pygments_lexer": "ipython3",
   "version": "3.12.9"
  }
 },
 "nbformat": 4,
 "nbformat_minor": 5
}
