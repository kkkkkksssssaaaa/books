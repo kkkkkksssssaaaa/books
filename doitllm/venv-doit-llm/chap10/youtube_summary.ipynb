{
 "cells": [
  {
   "cell_type": "code",
   "execution_count": 1,
   "id": "c80069b1",
   "metadata": {},
   "outputs": [
    {
     "name": "stdout",
     "output_type": "stream",
     "text": [
      "Collecting youtube-search\n",
      "  Downloading youtube_search-2.1.2-py3-none-any.whl.metadata (1.2 kB)\n",
      "Requirement already satisfied: requests in /Users/kkkkkksssssaaaa/IdeaProjects/books/doitllm/venv-doit-llm/lib/python3.12/site-packages (from youtube-search) (2.32.5)\n",
      "Requirement already satisfied: charset_normalizer<4,>=2 in /Users/kkkkkksssssaaaa/IdeaProjects/books/doitllm/venv-doit-llm/lib/python3.12/site-packages (from requests->youtube-search) (3.4.2)\n",
      "Requirement already satisfied: idna<4,>=2.5 in /Users/kkkkkksssssaaaa/IdeaProjects/books/doitllm/venv-doit-llm/lib/python3.12/site-packages (from requests->youtube-search) (3.10)\n",
      "Requirement already satisfied: urllib3<3,>=1.21.1 in /Users/kkkkkksssssaaaa/IdeaProjects/books/doitllm/venv-doit-llm/lib/python3.12/site-packages (from requests->youtube-search) (2.5.0)\n",
      "Requirement already satisfied: certifi>=2017.4.17 in /Users/kkkkkksssssaaaa/IdeaProjects/books/doitllm/venv-doit-llm/lib/python3.12/site-packages (from requests->youtube-search) (2025.7.9)\n",
      "Downloading youtube_search-2.1.2-py3-none-any.whl (3.4 kB)\n",
      "Installing collected packages: youtube-search\n",
      "Successfully installed youtube-search-2.1.2\n",
      "\n",
      "\u001b[1m[\u001b[0m\u001b[34;49mnotice\u001b[0m\u001b[1;39;49m]\u001b[0m\u001b[39;49m A new release of pip is available: \u001b[0m\u001b[31;49m25.1.1\u001b[0m\u001b[39;49m -> \u001b[0m\u001b[32;49m25.2\u001b[0m\n",
      "\u001b[1m[\u001b[0m\u001b[34;49mnotice\u001b[0m\u001b[1;39;49m]\u001b[0m\u001b[39;49m To update, run: \u001b[0m\u001b[32;49mpip install --upgrade pip\u001b[0m\n",
      "Note: you may need to restart the kernel to use updated packages.\n"
     ]
    }
   ],
   "source": [
    "%pip install youtube-search"
   ]
  },
  {
   "cell_type": "code",
   "execution_count": 2,
   "id": "502b9af4",
   "metadata": {},
   "outputs": [
    {
     "data": {
      "text/plain": [
       "[{'id': 'TnJFewA3ytA',\n",
       "  'thumbnails': ['https://i.ytimg.com/vi/TnJFewA3ytA/hq720.jpg?sqp=-oaymwEjCOgCEMoBSFryq4qpAxUIARUAAAAAGAElAADIQj0AgKJDeAE=&rs=AOn4CLCjzERm8ChHQKcqXj-sxTLbBTLWlw',\n",
       "   'https://i.ytimg.com/vi/TnJFewA3ytA/hq720.jpg?sqp=-oaymwEXCNAFEJQDSFryq4qpAwkIARUAAIhCGAE=&rs=AOn4CLAifMvSxvYTf5RSYJ1m_6ktBjVlZA'],\n",
       "  'title': \"IVE 아이브 'XOXZ' MV Reaction\",\n",
       "  'long_desc': None,\n",
       "  'channel': 'IVE',\n",
       "  'duration': '3:21',\n",
       "  'views': '조회수 16,198회',\n",
       "  'publish_time': '57분 전',\n",
       "  'url_suffix': '/watch?v=TnJFewA3ytA&pp=ygUn7JWE7J2067iMIOyLoOqzoSBYT1haIOyXkCDrjIDtlZwg67CY7J2R'},\n",
       " {'id': '5VlKtD4kGMw',\n",
       "  'thumbnails': ['https://i.ytimg.com/vi/5VlKtD4kGMw/hq720.jpg?sqp=-oaymwEjCOgCEMoBSFryq4qpAxUIARUAAAAAGAElAADIQj0AgKJDeAE=&rs=AOn4CLAh6JtFTsiKlJJLeuJ1fNyHApGOPg',\n",
       "   'https://i.ytimg.com/vi/5VlKtD4kGMw/hq720.jpg?sqp=-oaymwEXCNAFEJQDSFryq4qpAwkIARUAAIhCGAE=&rs=AOn4CLAc7jrexvh677qsiY-JOWeLgYPeHA'],\n",
       "  'title': 'IVE 아이브 ‘XOXZ’ MV에 대한 솔직한 반응',\n",
       "  'long_desc': None,\n",
       "  'channel': 'Aaron Freeman',\n",
       "  'duration': '11:54',\n",
       "  'views': '조회수 8,607회',\n",
       "  'publish_time': '14시간 전',\n",
       "  'url_suffix': '/watch?v=5VlKtD4kGMw&pp=ygUn7JWE7J2067iMIOyLoOqzoSBYT1haIOyXkCDrjIDtlZwg67CY7J2R'},\n",
       " {'id': 'B1ShLiq3EVc',\n",
       "  'thumbnails': ['https://i.ytimg.com/vi/B1ShLiq3EVc/hq720.jpg?sqp=-oaymwEjCOgCEMoBSFryq4qpAxUIARUAAAAAGAElAADIQj0AgKJDeAE=&rs=AOn4CLA_MGDKD87YwX3bAAKxXvoQIx28nw',\n",
       "   'https://i.ytimg.com/vi/B1ShLiq3EVc/hq720.jpg?sqp=-oaymwEXCNAFEJQDSFryq4qpAwkIARUAAIhCGAE=&rs=AOn4CLAJ9cQHStylg9AXva9tLjIDvMOhTw'],\n",
       "  'title': 'IVE 아이브 ‘XOXZ’ MV',\n",
       "  'long_desc': None,\n",
       "  'channel': 'STARSHIP',\n",
       "  'duration': '2:38',\n",
       "  'views': '조회수 7,708,664회',\n",
       "  'publish_time': '2일 전',\n",
       "  'url_suffix': '/watch?v=B1ShLiq3EVc&list=RDB1ShLiq3EVc&start_radio=1&pp=ygUn7JWE7J2067iMIOyLoOqzoSBYT1haIOyXkCDrjIDtlZwg67CY7J2RoAcB'},\n",
       " {'id': '80bXgLamcEw',\n",
       "  'thumbnails': ['https://i.ytimg.com/vi/80bXgLamcEw/hq720.jpg?sqp=-oaymwEjCOgCEMoBSFryq4qpAxUIARUAAAAAGAElAADIQj0AgKJDeAE=&rs=AOn4CLC0lhsj4y-CLcgeHgEdMmzjSlj1SQ',\n",
       "   'https://i.ytimg.com/vi/80bXgLamcEw/hq720.jpg?sqp=-oaymwEXCNAFEJQDSFryq4qpAwkIARUAAIhCGAE=&rs=AOn4CLCY8_T-_D4pRn64XFLhk6G5C06tyQ'],\n",
       "  'title': 'COUPLE REACTS TO IVE 아이브 ‘XOXZ’ MV',\n",
       "  'long_desc': None,\n",
       "  'channel': 'Kess and Han Reacts',\n",
       "  'duration': '11:20',\n",
       "  'views': '조회수 52,292회',\n",
       "  'publish_time': '1일 전',\n",
       "  'url_suffix': '/watch?v=80bXgLamcEw&list=RD80bXgLamcEw&start_radio=1&pp=ygUn7JWE7J2067iMIOyLoOqzoSBYT1haIOyXkCDrjIDtlZwg67CY7J2RoAcB'},\n",
       " {'id': 'qFPzwwmClfI',\n",
       "  'thumbnails': ['https://i.ytimg.com/vi/qFPzwwmClfI/hq720.jpg?sqp=-oaymwEjCOgCEMoBSFryq4qpAxUIARUAAAAAGAElAADIQj0AgKJDeAE=&rs=AOn4CLBi5I7AChM6hn2E_baDIzx1xLZjww',\n",
       "   'https://i.ytimg.com/vi/qFPzwwmClfI/hq720.jpg?sqp=-oaymwEXCNAFEJQDSFryq4qpAwkIARUAAIhCGAE=&rs=AOn4CLClc9VXhaLcrjUu7V8-WvIekhZZ7A'],\n",
       "  'title': \"IVE 아이브 'XOXZ' 응원법 (Cheering Guide)\",\n",
       "  'long_desc': None,\n",
       "  'channel': 'IVE',\n",
       "  'duration': '3:51',\n",
       "  'views': '조회수 109,383회',\n",
       "  'publish_time': '1일 전',\n",
       "  'url_suffix': '/watch?v=qFPzwwmClfI&list=RDqFPzwwmClfI&start_radio=1&pp=ygUn7JWE7J2067iMIOyLoOqzoSBYT1haIOyXkCDrjIDtlZwg67CY7J2RoAcB'}]"
      ]
     },
     "execution_count": 2,
     "metadata": {},
     "output_type": "execute_result"
    }
   ],
   "source": [
    "from youtube_search import YoutubeSearch\n",
    "\n",
    "videos = YoutubeSearch(\"아이브 신곡 XOXZ 에 대한 반응\", max_results = 5).to_dict()\n",
    "\n",
    "videos"
   ]
  },
  {
   "cell_type": "code",
   "execution_count": null,
   "id": "dba497a0",
   "metadata": {},
   "outputs": [
    {
     "data": {
      "text/plain": [
       "[{'id': 'TnJFewA3ytA',\n",
       "  'thumbnails': ['https://i.ytimg.com/vi/TnJFewA3ytA/hq720.jpg?sqp=-oaymwEjCOgCEMoBSFryq4qpAxUIARUAAAAAGAElAADIQj0AgKJDeAE=&rs=AOn4CLCjzERm8ChHQKcqXj-sxTLbBTLWlw',\n",
       "   'https://i.ytimg.com/vi/TnJFewA3ytA/hq720.jpg?sqp=-oaymwEXCNAFEJQDSFryq4qpAwkIARUAAIhCGAE=&rs=AOn4CLAifMvSxvYTf5RSYJ1m_6ktBjVlZA'],\n",
       "  'title': \"IVE 아이브 'XOXZ' MV Reaction\",\n",
       "  'long_desc': None,\n",
       "  'channel': 'IVE',\n",
       "  'duration': '3:21',\n",
       "  'views': '조회수 16,198회',\n",
       "  'publish_time': '57분 전',\n",
       "  'url_suffix': '/watch?v=TnJFewA3ytA&pp=ygUn7JWE7J2067iMIOyLoOqzoSBYT1haIOyXkCDrjIDtlZwg67CY7J2R'},\n",
       " {'id': '5VlKtD4kGMw',\n",
       "  'thumbnails': ['https://i.ytimg.com/vi/5VlKtD4kGMw/hq720.jpg?sqp=-oaymwEjCOgCEMoBSFryq4qpAxUIARUAAAAAGAElAADIQj0AgKJDeAE=&rs=AOn4CLAh6JtFTsiKlJJLeuJ1fNyHApGOPg',\n",
       "   'https://i.ytimg.com/vi/5VlKtD4kGMw/hq720.jpg?sqp=-oaymwEXCNAFEJQDSFryq4qpAwkIARUAAIhCGAE=&rs=AOn4CLAc7jrexvh677qsiY-JOWeLgYPeHA'],\n",
       "  'title': 'IVE 아이브 ‘XOXZ’ MV에 대한 솔직한 반응',\n",
       "  'long_desc': None,\n",
       "  'channel': 'Aaron Freeman',\n",
       "  'duration': '11:54',\n",
       "  'views': '조회수 8,607회',\n",
       "  'publish_time': '14시간 전',\n",
       "  'url_suffix': '/watch?v=5VlKtD4kGMw&pp=ygUn7JWE7J2067iMIOyLoOqzoSBYT1haIOyXkCDrjIDtlZwg67CY7J2R'},\n",
       " {'id': 'B1ShLiq3EVc',\n",
       "  'thumbnails': ['https://i.ytimg.com/vi/B1ShLiq3EVc/hq720.jpg?sqp=-oaymwEjCOgCEMoBSFryq4qpAxUIARUAAAAAGAElAADIQj0AgKJDeAE=&rs=AOn4CLA_MGDKD87YwX3bAAKxXvoQIx28nw',\n",
       "   'https://i.ytimg.com/vi/B1ShLiq3EVc/hq720.jpg?sqp=-oaymwEXCNAFEJQDSFryq4qpAwkIARUAAIhCGAE=&rs=AOn4CLAJ9cQHStylg9AXva9tLjIDvMOhTw'],\n",
       "  'title': 'IVE 아이브 ‘XOXZ’ MV',\n",
       "  'long_desc': None,\n",
       "  'channel': 'STARSHIP',\n",
       "  'duration': '2:38',\n",
       "  'views': '조회수 7,708,664회',\n",
       "  'publish_time': '2일 전',\n",
       "  'url_suffix': '/watch?v=B1ShLiq3EVc&list=RDB1ShLiq3EVc&start_radio=1&pp=ygUn7JWE7J2067iMIOyLoOqzoSBYT1haIOyXkCDrjIDtlZwg67CY7J2RoAcB'},\n",
       " {'id': '80bXgLamcEw',\n",
       "  'thumbnails': ['https://i.ytimg.com/vi/80bXgLamcEw/hq720.jpg?sqp=-oaymwEjCOgCEMoBSFryq4qpAxUIARUAAAAAGAElAADIQj0AgKJDeAE=&rs=AOn4CLC0lhsj4y-CLcgeHgEdMmzjSlj1SQ',\n",
       "   'https://i.ytimg.com/vi/80bXgLamcEw/hq720.jpg?sqp=-oaymwEXCNAFEJQDSFryq4qpAwkIARUAAIhCGAE=&rs=AOn4CLCY8_T-_D4pRn64XFLhk6G5C06tyQ'],\n",
       "  'title': 'COUPLE REACTS TO IVE 아이브 ‘XOXZ’ MV',\n",
       "  'long_desc': None,\n",
       "  'channel': 'Kess and Han Reacts',\n",
       "  'duration': '11:20',\n",
       "  'views': '조회수 52,292회',\n",
       "  'publish_time': '1일 전',\n",
       "  'url_suffix': '/watch?v=80bXgLamcEw&list=RD80bXgLamcEw&start_radio=1&pp=ygUn7JWE7J2067iMIOyLoOqzoSBYT1haIOyXkCDrjIDtlZwg67CY7J2RoAcB'},\n",
       " {'id': 'qFPzwwmClfI',\n",
       "  'thumbnails': ['https://i.ytimg.com/vi/qFPzwwmClfI/hq720.jpg?sqp=-oaymwEjCOgCEMoBSFryq4qpAxUIARUAAAAAGAElAADIQj0AgKJDeAE=&rs=AOn4CLBi5I7AChM6hn2E_baDIzx1xLZjww',\n",
       "   'https://i.ytimg.com/vi/qFPzwwmClfI/hq720.jpg?sqp=-oaymwEXCNAFEJQDSFryq4qpAwkIARUAAIhCGAE=&rs=AOn4CLClc9VXhaLcrjUu7V8-WvIekhZZ7A'],\n",
       "  'title': \"IVE 아이브 'XOXZ' 응원법 (Cheering Guide)\",\n",
       "  'long_desc': None,\n",
       "  'channel': 'IVE',\n",
       "  'duration': '3:51',\n",
       "  'views': '조회수 109,383회',\n",
       "  'publish_time': '1일 전',\n",
       "  'url_suffix': '/watch?v=qFPzwwmClfI&list=RDqFPzwwmClfI&start_radio=1&pp=ygUn7JWE7J2067iMIOyLoOqzoSBYT1haIOyXkCDrjIDtlZwg67CY7J2RoAcB'}]"
      ]
     },
     "metadata": {},
     "output_type": "display_data"
    }
   ],
   "source": [
    "from youtube_search import YoutubeSearch\n",
    "\n",
    "videos = YoutubeSearch(\"아이브 신곡 XOXZ 에 대한 반응\", max_results = 5).to_dict()\n",
    "\n",
    "videos"
   ]
  },
  {
   "cell_type": "code",
   "execution_count": 6,
   "id": "7b24c4da",
   "metadata": {},
   "outputs": [
    {
     "data": {
      "text/plain": [
       "'https://youtube.com/watch?v=TnJFewA3ytA&pp=ygUn7JWE7J2067iMIOyLoOqzoSBYT1haIOyXkCDrjIDtlZwg67CY7J2R'"
      ]
     },
     "execution_count": 6,
     "metadata": {},
     "output_type": "execute_result"
    }
   ],
   "source": [
    "video_url = \"https://youtube.com\" + videos[0][\"url_suffix\"]\n",
    "\n",
    "video_url"
   ]
  },
  {
   "cell_type": "code",
   "execution_count": 4,
   "id": "1de604c9",
   "metadata": {},
   "outputs": [
    {
     "name": "stdout",
     "output_type": "stream",
     "text": [
      "Collecting youtube_transcript_api\n",
      "  Downloading youtube_transcript_api-1.2.2-py3-none-any.whl.metadata (24 kB)\n",
      "Requirement already satisfied: defusedxml<0.8.0,>=0.7.1 in /Users/kkkkkksssssaaaa/IdeaProjects/books/doitllm/venv-doit-llm/lib/python3.12/site-packages (from youtube_transcript_api) (0.7.1)\n",
      "Requirement already satisfied: requests in /Users/kkkkkksssssaaaa/IdeaProjects/books/doitllm/venv-doit-llm/lib/python3.12/site-packages (from youtube_transcript_api) (2.32.5)\n",
      "Requirement already satisfied: charset_normalizer<4,>=2 in /Users/kkkkkksssssaaaa/IdeaProjects/books/doitllm/venv-doit-llm/lib/python3.12/site-packages (from requests->youtube_transcript_api) (3.4.2)\n",
      "Requirement already satisfied: idna<4,>=2.5 in /Users/kkkkkksssssaaaa/IdeaProjects/books/doitllm/venv-doit-llm/lib/python3.12/site-packages (from requests->youtube_transcript_api) (3.10)\n",
      "Requirement already satisfied: urllib3<3,>=1.21.1 in /Users/kkkkkksssssaaaa/IdeaProjects/books/doitllm/venv-doit-llm/lib/python3.12/site-packages (from requests->youtube_transcript_api) (2.5.0)\n",
      "Requirement already satisfied: certifi>=2017.4.17 in /Users/kkkkkksssssaaaa/IdeaProjects/books/doitllm/venv-doit-llm/lib/python3.12/site-packages (from requests->youtube_transcript_api) (2025.7.9)\n",
      "Downloading youtube_transcript_api-1.2.2-py3-none-any.whl (485 kB)\n",
      "Installing collected packages: youtube_transcript_api\n",
      "Successfully installed youtube_transcript_api-1.2.2\n",
      "\n",
      "\u001b[1m[\u001b[0m\u001b[34;49mnotice\u001b[0m\u001b[1;39;49m]\u001b[0m\u001b[39;49m A new release of pip is available: \u001b[0m\u001b[31;49m25.1.1\u001b[0m\u001b[39;49m -> \u001b[0m\u001b[32;49m25.2\u001b[0m\n",
      "\u001b[1m[\u001b[0m\u001b[34;49mnotice\u001b[0m\u001b[1;39;49m]\u001b[0m\u001b[39;49m To update, run: \u001b[0m\u001b[32;49mpip install --upgrade pip\u001b[0m\n",
      "Note: you may need to restart the kernel to use updated packages.\n"
     ]
    }
   ],
   "source": [
    "%pip install youtube_transcript_api"
   ]
  },
  {
   "cell_type": "code",
   "execution_count": 9,
   "id": "bee021f6",
   "metadata": {},
   "outputs": [
    {
     "ename": "AttributeError",
     "evalue": "type object 'YouTubeTranscriptApi' has no attribute 'list_transcripts'",
     "output_type": "error",
     "traceback": [
      "\u001b[31m---------------------------------------------------------------------------\u001b[39m",
      "\u001b[31mAttributeError\u001b[39m                            Traceback (most recent call last)",
      "\u001b[36mCell\u001b[39m\u001b[36m \u001b[39m\u001b[32mIn[9]\u001b[39m\u001b[32m, line 8\u001b[39m\n\u001b[32m      1\u001b[39m \u001b[38;5;28;01mfrom\u001b[39;00m\u001b[38;5;250m \u001b[39m\u001b[34;01mlangchain_community\u001b[39;00m\u001b[34;01m.\u001b[39;00m\u001b[34;01mdocument_loaders\u001b[39;00m\u001b[38;5;250m \u001b[39m\u001b[38;5;28;01mimport\u001b[39;00m YoutubeLoader\n\u001b[32m      3\u001b[39m loader = YoutubeLoader.from_youtube_url(\n\u001b[32m      4\u001b[39m   video_url,\n\u001b[32m      5\u001b[39m   language = [\u001b[33m\"\u001b[39m\u001b[33mko\u001b[39m\u001b[33m\"\u001b[39m, \u001b[33m\"\u001b[39m\u001b[33men\u001b[39m\u001b[33m\"\u001b[39m],\n\u001b[32m      6\u001b[39m )\n\u001b[32m----> \u001b[39m\u001b[32m8\u001b[39m \u001b[43mloader\u001b[49m\u001b[43m.\u001b[49m\u001b[43mload\u001b[49m\u001b[43m(\u001b[49m\u001b[43m)\u001b[49m\n",
      "\u001b[36mFile \u001b[39m\u001b[32m~/IdeaProjects/books/doitllm/venv-doit-llm/lib/python3.12/site-packages/langchain_community/document_loaders/youtube.py:262\u001b[39m, in \u001b[36mYoutubeLoader.load\u001b[39m\u001b[34m(self)\u001b[39m\n\u001b[32m    259\u001b[39m     \u001b[38;5;28mself\u001b[39m._metadata.update(video_info)\n\u001b[32m    261\u001b[39m \u001b[38;5;28;01mtry\u001b[39;00m:\n\u001b[32m--> \u001b[39m\u001b[32m262\u001b[39m     transcript_list = \u001b[43mYouTubeTranscriptApi\u001b[49m\u001b[43m.\u001b[49m\u001b[43mlist_transcripts\u001b[49m(\u001b[38;5;28mself\u001b[39m.video_id)\n\u001b[32m    263\u001b[39m \u001b[38;5;28;01mexcept\u001b[39;00m TranscriptsDisabled:\n\u001b[32m    264\u001b[39m     \u001b[38;5;28;01mreturn\u001b[39;00m []\n",
      "\u001b[31mAttributeError\u001b[39m: type object 'YouTubeTranscriptApi' has no attribute 'list_transcripts'"
     ]
    }
   ],
   "source": [
    "from langchain_community.document_loaders import YoutubeLoader\n",
    "\n",
    "loader = YoutubeLoader.from_youtube_url(\n",
    "  video_url,\n",
    "  language = [\"ko\", \"en\"],\n",
    ")\n",
    "\n",
    "loader.load()"
   ]
  },
  {
   "cell_type": "code",
   "execution_count": 10,
   "id": "3fb323e3",
   "metadata": {},
   "outputs": [
    {
     "name": "stdout",
     "output_type": "stream",
     "text": [
      "Video ID: TnJFewA3ytA\n",
      "Video URL: https://youtube.com/watch?v=TnJFewA3ytA&pp=ygUn7JWE7J2067iMIOyLoOqzoSBYT1haIOyXkCDrjIDtlZwg67CY7J2R\n"
     ]
    }
   ],
   "source": [
    "# YouTube URL에서 비디오 ID 추출하는 함수\n",
    "import re\n",
    "\n",
    "def extract_video_id(url):\n",
    "    \"\"\"YouTube URL에서 비디오 ID를 추출합니다.\"\"\"\n",
    "    # 다양한 YouTube URL 형식에 대응\n",
    "    patterns = [\n",
    "        r'youtube\\.com/watch\\?v=([^&]+)',\n",
    "        r'youtu\\.be/([^?]+)',\n",
    "        r'youtube\\.com/embed/([^?]+)',\n",
    "        r'youtube\\.com/v/([^?]+)'\n",
    "    ]\n",
    "    \n",
    "    for pattern in patterns:\n",
    "        match = re.search(pattern, url)\n",
    "        if match:\n",
    "            return match.group(1)\n",
    "    return None\n",
    "\n",
    "# 비디오 ID 추출\n",
    "video_id = extract_video_id(video_url)\n",
    "print(f\"Video ID: {video_id}\")\n",
    "print(f\"Video URL: {video_url}\")\n"
   ]
  },
  {
   "cell_type": "code",
   "execution_count": 11,
   "id": "93f35bb1",
   "metadata": {},
   "outputs": [
    {
     "name": "stdout",
     "output_type": "stream",
     "text": [
      "자막을 가져오는 중 오류 발생: type object 'YouTubeTranscriptApi' has no attribute 'get_transcript'\n",
      "자막 목록 가져오기 실패: type object 'YouTubeTranscriptApi' has no attribute 'list_transcripts'\n"
     ]
    }
   ],
   "source": [
    "# 직접 YouTube Transcript API 사용\n",
    "from youtube_transcript_api import YouTubeTranscriptApi\n",
    "\n",
    "try:\n",
    "    # 자막 가져오기 (한국어 우선, 없으면 영어)\n",
    "    transcript = YouTubeTranscriptApi.get_transcript(video_id, languages=['ko', 'en'])\n",
    "    \n",
    "    # 자막 텍스트 합치기\n",
    "    transcript_text = \"\"\n",
    "    for entry in transcript:\n",
    "        transcript_text += entry['text'] + \" \"\n",
    "    \n",
    "    print(\"자막을 성공적으로 가져왔습니다!\")\n",
    "    print(f\"자막 길이: {len(transcript_text)} 문자\")\n",
    "    print(f\"자막 미리보기: {transcript_text[:200]}...\")\n",
    "    \n",
    "except Exception as e:\n",
    "    print(f\"자막을 가져오는 중 오류 발생: {e}\")\n",
    "    \n",
    "    # 대안: 사용 가능한 자막 언어 확인\n",
    "    try:\n",
    "        transcript_list = YouTubeTranscriptApi.list_transcripts(video_id)\n",
    "        print(\"사용 가능한 자막 언어:\")\n",
    "        for transcript in transcript_list:\n",
    "            print(f\"- {transcript.language} ({transcript.language_code})\")\n",
    "    except Exception as list_error:\n",
    "        print(f\"자막 목록 가져오기 실패: {list_error}\")\n",
    "        transcript_text = \"자막을 가져올 수 없습니다.\"\n"
   ]
  }
 ],
 "metadata": {
  "kernelspec": {
   "display_name": "venv-doit-llm",
   "language": "python",
   "name": "python3"
  },
  "language_info": {
   "codemirror_mode": {
    "name": "ipython",
    "version": 3
   },
   "file_extension": ".py",
   "mimetype": "text/x-python",
   "name": "python",
   "nbconvert_exporter": "python",
   "pygments_lexer": "ipython3",
   "version": "3.12.9"
  }
 },
 "nbformat": 4,
 "nbformat_minor": 5
}
